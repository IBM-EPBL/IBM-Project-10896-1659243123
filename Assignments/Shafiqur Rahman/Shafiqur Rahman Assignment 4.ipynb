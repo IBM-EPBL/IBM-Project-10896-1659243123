{
 "cells": [
  {
   "cell_type": "markdown",
   "metadata": {},
   "source": [
    "### 1. Download the dataset"
   ]
  },
  {
   "cell_type": "markdown",
   "metadata": {
    "id": "F6bJl03aWPA3"
   },
   "source": [
    "#### Import libraries"
   ]
  },
  {
   "cell_type": "code",
   "execution_count": 122,
   "metadata": {
    "id": "5yhDZ8TUVPHs"
   },
   "outputs": [],
   "source": [
    "import pandas as pd\n",
    "import numpy as np\n",
    "import matplotlib.pyplot as plt\n",
    "import seaborn as sns\n",
    "from sklearn.model_selection import train_test_split\n",
    "from sklearn.ensemble import RandomForestClassifier\n",
    "from sklearn.metrics import accuracy_score\n",
    "from sklearn import metrics"
   ]
  },
  {
   "cell_type": "markdown",
   "metadata": {
    "id": "V-DJ6CbwWVHG"
   },
   "source": [
    "### 2. Load the dataset into the tool"
   ]
  },
  {
   "cell_type": "code",
   "execution_count": 123,
   "metadata": {
    "id": "OMpet1fXWbOI"
   },
   "outputs": [],
   "source": [
    "df=pd.read_csv('Mall_Customers.csv')"
   ]
  },
  {
   "cell_type": "code",
   "execution_count": 124,
   "metadata": {
    "colab": {
     "base_uri": "https://localhost:8080/",
     "height": 206
    },
    "id": "Hsu2acrHWmob",
    "outputId": "4916f3c8-717f-47db-d178-475d3d1922ab"
   },
   "outputs": [
    {
     "data": {
      "text/html": [
       "<div>\n",
       "<style scoped>\n",
       "    .dataframe tbody tr th:only-of-type {\n",
       "        vertical-align: middle;\n",
       "    }\n",
       "\n",
       "    .dataframe tbody tr th {\n",
       "        vertical-align: top;\n",
       "    }\n",
       "\n",
       "    .dataframe thead th {\n",
       "        text-align: right;\n",
       "    }\n",
       "</style>\n",
       "<table border=\"1\" class=\"dataframe\">\n",
       "  <thead>\n",
       "    <tr style=\"text-align: right;\">\n",
       "      <th></th>\n",
       "      <th>CustomerID</th>\n",
       "      <th>Gender</th>\n",
       "      <th>Age</th>\n",
       "      <th>Annual Income (k$)</th>\n",
       "      <th>Spending Score (1-100)</th>\n",
       "    </tr>\n",
       "  </thead>\n",
       "  <tbody>\n",
       "    <tr>\n",
       "      <th>0</th>\n",
       "      <td>1</td>\n",
       "      <td>Male</td>\n",
       "      <td>19</td>\n",
       "      <td>15</td>\n",
       "      <td>39</td>\n",
       "    </tr>\n",
       "    <tr>\n",
       "      <th>1</th>\n",
       "      <td>2</td>\n",
       "      <td>Male</td>\n",
       "      <td>21</td>\n",
       "      <td>15</td>\n",
       "      <td>81</td>\n",
       "    </tr>\n",
       "    <tr>\n",
       "      <th>2</th>\n",
       "      <td>3</td>\n",
       "      <td>Female</td>\n",
       "      <td>20</td>\n",
       "      <td>16</td>\n",
       "      <td>6</td>\n",
       "    </tr>\n",
       "    <tr>\n",
       "      <th>3</th>\n",
       "      <td>4</td>\n",
       "      <td>Female</td>\n",
       "      <td>23</td>\n",
       "      <td>16</td>\n",
       "      <td>77</td>\n",
       "    </tr>\n",
       "    <tr>\n",
       "      <th>4</th>\n",
       "      <td>5</td>\n",
       "      <td>Female</td>\n",
       "      <td>31</td>\n",
       "      <td>17</td>\n",
       "      <td>40</td>\n",
       "    </tr>\n",
       "  </tbody>\n",
       "</table>\n",
       "</div>"
      ],
      "text/plain": [
       "   CustomerID  Gender  Age  Annual Income (k$)  Spending Score (1-100)\n",
       "0           1    Male   19                  15                      39\n",
       "1           2    Male   21                  15                      81\n",
       "2           3  Female   20                  16                       6\n",
       "3           4  Female   23                  16                      77\n",
       "4           5  Female   31                  17                      40"
      ]
     },
     "execution_count": 124,
     "metadata": {},
     "output_type": "execute_result"
    }
   ],
   "source": [
    "df.head()"
   ]
  },
  {
   "cell_type": "code",
   "execution_count": 125,
   "metadata": {
    "colab": {
     "base_uri": "https://localhost:8080/",
     "height": 206
    },
    "id": "m_HFhtLtWpce",
    "outputId": "190b844e-c88f-4941-93f4-a5f1a3bc1ce9"
   },
   "outputs": [
    {
     "data": {
      "text/html": [
       "<div>\n",
       "<style scoped>\n",
       "    .dataframe tbody tr th:only-of-type {\n",
       "        vertical-align: middle;\n",
       "    }\n",
       "\n",
       "    .dataframe tbody tr th {\n",
       "        vertical-align: top;\n",
       "    }\n",
       "\n",
       "    .dataframe thead th {\n",
       "        text-align: right;\n",
       "    }\n",
       "</style>\n",
       "<table border=\"1\" class=\"dataframe\">\n",
       "  <thead>\n",
       "    <tr style=\"text-align: right;\">\n",
       "      <th></th>\n",
       "      <th>CustomerID</th>\n",
       "      <th>Gender</th>\n",
       "      <th>Age</th>\n",
       "      <th>Annual Income (k$)</th>\n",
       "      <th>Spending Score (1-100)</th>\n",
       "    </tr>\n",
       "  </thead>\n",
       "  <tbody>\n",
       "    <tr>\n",
       "      <th>195</th>\n",
       "      <td>196</td>\n",
       "      <td>Female</td>\n",
       "      <td>35</td>\n",
       "      <td>120</td>\n",
       "      <td>79</td>\n",
       "    </tr>\n",
       "    <tr>\n",
       "      <th>196</th>\n",
       "      <td>197</td>\n",
       "      <td>Female</td>\n",
       "      <td>45</td>\n",
       "      <td>126</td>\n",
       "      <td>28</td>\n",
       "    </tr>\n",
       "    <tr>\n",
       "      <th>197</th>\n",
       "      <td>198</td>\n",
       "      <td>Male</td>\n",
       "      <td>32</td>\n",
       "      <td>126</td>\n",
       "      <td>74</td>\n",
       "    </tr>\n",
       "    <tr>\n",
       "      <th>198</th>\n",
       "      <td>199</td>\n",
       "      <td>Male</td>\n",
       "      <td>32</td>\n",
       "      <td>137</td>\n",
       "      <td>18</td>\n",
       "    </tr>\n",
       "    <tr>\n",
       "      <th>199</th>\n",
       "      <td>200</td>\n",
       "      <td>Male</td>\n",
       "      <td>30</td>\n",
       "      <td>137</td>\n",
       "      <td>83</td>\n",
       "    </tr>\n",
       "  </tbody>\n",
       "</table>\n",
       "</div>"
      ],
      "text/plain": [
       "     CustomerID  Gender  Age  Annual Income (k$)  Spending Score (1-100)\n",
       "195         196  Female   35                 120                      79\n",
       "196         197  Female   45                 126                      28\n",
       "197         198    Male   32                 126                      74\n",
       "198         199    Male   32                 137                      18\n",
       "199         200    Male   30                 137                      83"
      ]
     },
     "execution_count": 125,
     "metadata": {},
     "output_type": "execute_result"
    }
   ],
   "source": [
    "df.tail()"
   ]
  },
  {
   "cell_type": "code",
   "execution_count": 126,
   "metadata": {
    "colab": {
     "base_uri": "https://localhost:8080/"
    },
    "id": "3utym1URWsa8",
    "outputId": "4100f079-9fef-425f-d63d-03b376fade68"
   },
   "outputs": [
    {
     "name": "stdout",
     "output_type": "stream",
     "text": [
      "<class 'pandas.core.frame.DataFrame'>\n",
      "RangeIndex: 200 entries, 0 to 199\n",
      "Data columns (total 5 columns):\n",
      " #   Column                  Non-Null Count  Dtype \n",
      "---  ------                  --------------  ----- \n",
      " 0   CustomerID              200 non-null    int64 \n",
      " 1   Gender                  200 non-null    object\n",
      " 2   Age                     200 non-null    int64 \n",
      " 3   Annual Income (k$)      200 non-null    int64 \n",
      " 4   Spending Score (1-100)  200 non-null    int64 \n",
      "dtypes: int64(4), object(1)\n",
      "memory usage: 7.9+ KB\n"
     ]
    }
   ],
   "source": [
    "df.info()"
   ]
  },
  {
   "cell_type": "markdown",
   "metadata": {
    "id": "FUp57aefWg8d"
   },
   "source": [
    "### 3. Perform Below Visualizations"
   ]
  },
  {
   "cell_type": "markdown",
   "metadata": {
    "id": "pmXR58-7W1Kr"
   },
   "source": [
    "* Univariate Analysis"
   ]
  },
  {
   "cell_type": "code",
   "execution_count": 127,
   "metadata": {
    "colab": {
     "base_uri": "https://localhost:8080/",
     "height": 296
    },
    "id": "O2qMa_p7XIXR",
    "outputId": "652207df-6839-43ee-d49d-7680111a4d61"
   },
   "outputs": [
    {
     "data": {
      "text/plain": [
       "Text(0.5, 0, 'Age')"
      ]
     },
     "execution_count": 127,
     "metadata": {},
     "output_type": "execute_result"
    },
    {
     "data": {
      "image/png": "[encoded data removed]",
      "text/plain": [
       "<Figure size 432x288 with 1 Axes>"
      ]
     },
     "metadata": {
      "needs_background": "light"
     },
     "output_type": "display_data"
    }
   ],
   "source": [
    "plt.hist(df['Age'])\n",
    "plt.xlabel('Age')"
   ]
  },
  {
   "cell_type": "code",
   "execution_count": 131,
   "metadata": {},
   "outputs": [
    {
     "data": {
      "text/plain": [
       "Text(0.5, 0, 'Annual Income')"
      ]
     },
     "execution_count": 131,
     "metadata": {},
     "output_type": "execute_result"
    },
    {
     "data": {
      "image/png": "[encoded data removed]",
      "text/plain": [
       "<Figure size 432x288 with 1 Axes>"
      ]
     },
     "metadata": {
      "needs_background": "light"
     },
     "output_type": "display_data"
    }
   ],
   "source": [
    "plt.hist(df['Annual Income (k$)'])\n",
    "plt.xlabel('Annual Income')"
   ]
  },
  {
   "cell_type": "markdown",
   "metadata": {
    "id": "SEheo2b8XWtG"
   },
   "source": [
    "* Bivariate Analysis"
   ]
  },
  {
   "cell_type": "code",
   "execution_count": 135,
   "metadata": {
    "colab": {
     "base_uri": "https://localhost:8080/",
     "height": 351
    },
    "id": "DDV0wigXXYuz",
    "outputId": "71f3a174-e48a-49e4-aa98-9db7eb1a8959"
   },
   "outputs": [
    {
     "name": "stderr",
     "output_type": "stream",
     "text": [
      "D:\\Softwares\\Anaconda\\lib\\site-packages\\seaborn\\_decorators.py:36: FutureWarning: Pass the following variables as keyword args: x, y. From version 0.12, the only valid positional argument will be `data`, and passing other arguments without an explicit keyword will result in an error or misinterpretation.\n",
      "  warnings.warn(\n"
     ]
    },
    {
     "data": {
      "text/plain": [
       "<AxesSubplot:xlabel='Gender', ylabel='Age'>"
      ]
     },
     "execution_count": 135,
     "metadata": {},
     "output_type": "execute_result"
    },
    {
     "data": {
      "image/png": "[encoded data removed]",
      "text/plain": [
       "<Figure size 432x288 with 1 Axes>"
      ]
     },
     "metadata": {
      "needs_background": "light"
     },
     "output_type": "display_data"
    }
   ],
   "source": [
    "sns.lineplot(df['Gender'],df['Age'])"
   ]
  },
  {
   "cell_type": "markdown",
   "metadata": {
    "id": "WT2oR1GlXhzN"
   },
   "source": [
    "**∙ Multi-Variate Analysis**"
   ]
  },
  {
   "cell_type": "code",
   "execution_count": 141,
   "metadata": {
    "colab": {
     "base_uri": "https://localhost:8080/",
     "height": 394
    },
    "id": "vvy94bDRXlEp",
    "outputId": "4a55501b-96bc-4853-b668-3c259c3a640b"
   },
   "outputs": [
    {
     "data": {
      "text/plain": [
       "<seaborn.axisgrid.PairGrid at 0x2108115bfa0>"
      ]
     },
     "execution_count": 141,
     "metadata": {},
     "output_type": "execute_result"
    },
    {
     "data": {
      "image/png": "[encoded data removed]",
      "text/plain": [
       "<Figure size 792.125x720 with 20 Axes>"
      ]
     },
     "metadata": {
      "needs_background": "light"
     },
     "output_type": "display_data"
    }
   ],
   "source": [
    "sns.pairplot(df,hue='Gender')"
   ]
  },
  {
   "cell_type": "markdown",
   "metadata": {
    "id": "HSDJeqxwXor9"
   },
   "source": [
    "### 4. Perform descriptive statistics on the dataset"
   ]
  },
  {
   "cell_type": "code",
   "execution_count": 142,
   "metadata": {},
   "outputs": [
    {
     "data": {
      "text/html": [
       "<div>\n",
       "<style scoped>\n",
       "    .dataframe tbody tr th:only-of-type {\n",
       "        vertical-align: middle;\n",
       "    }\n",
       "\n",
       "    .dataframe tbody tr th {\n",
       "        vertical-align: top;\n",
       "    }\n",
       "\n",
       "    .dataframe thead th {\n",
       "        text-align: right;\n",
       "    }\n",
       "</style>\n",
       "<table border=\"1\" class=\"dataframe\">\n",
       "  <thead>\n",
       "    <tr style=\"text-align: right;\">\n",
       "      <th></th>\n",
       "      <th>CustomerID</th>\n",
       "      <th>Age</th>\n",
       "      <th>Annual Income (k$)</th>\n",
       "      <th>Spending Score (1-100)</th>\n",
       "    </tr>\n",
       "  </thead>\n",
       "  <tbody>\n",
       "    <tr>\n",
       "      <th>count</th>\n",
       "      <td>200.000000</td>\n",
       "      <td>200.000000</td>\n",
       "      <td>200.000000</td>\n",
       "      <td>200.000000</td>\n",
       "    </tr>\n",
       "    <tr>\n",
       "      <th>mean</th>\n",
       "      <td>100.500000</td>\n",
       "      <td>38.850000</td>\n",
       "      <td>60.560000</td>\n",
       "      <td>50.200000</td>\n",
       "    </tr>\n",
       "    <tr>\n",
       "      <th>std</th>\n",
       "      <td>57.879185</td>\n",
       "      <td>13.969007</td>\n",
       "      <td>26.264721</td>\n",
       "      <td>25.823522</td>\n",
       "    </tr>\n",
       "    <tr>\n",
       "      <th>min</th>\n",
       "      <td>1.000000</td>\n",
       "      <td>18.000000</td>\n",
       "      <td>15.000000</td>\n",
       "      <td>1.000000</td>\n",
       "    </tr>\n",
       "    <tr>\n",
       "      <th>25%</th>\n",
       "      <td>50.750000</td>\n",
       "      <td>28.750000</td>\n",
       "      <td>41.500000</td>\n",
       "      <td>34.750000</td>\n",
       "    </tr>\n",
       "    <tr>\n",
       "      <th>50%</th>\n",
       "      <td>100.500000</td>\n",
       "      <td>36.000000</td>\n",
       "      <td>61.500000</td>\n",
       "      <td>50.000000</td>\n",
       "    </tr>\n",
       "    <tr>\n",
       "      <th>75%</th>\n",
       "      <td>150.250000</td>\n",
       "      <td>49.000000</td>\n",
       "      <td>78.000000</td>\n",
       "      <td>73.000000</td>\n",
       "    </tr>\n",
       "    <tr>\n",
       "      <th>max</th>\n",
       "      <td>200.000000</td>\n",
       "      <td>70.000000</td>\n",
       "      <td>137.000000</td>\n",
       "      <td>99.000000</td>\n",
       "    </tr>\n",
       "  </tbody>\n",
       "</table>\n",
       "</div>"
      ],
      "text/plain": [
       "       CustomerID         Age  Annual Income (k$)  Spending Score (1-100)\n",
       "count  200.000000  200.000000          200.000000              200.000000\n",
       "mean   100.500000   38.850000           60.560000               50.200000\n",
       "std     57.879185   13.969007           26.264721               25.823522\n",
       "min      1.000000   18.000000           15.000000                1.000000\n",
       "25%     50.750000   28.750000           41.500000               34.750000\n",
       "50%    100.500000   36.000000           61.500000               50.000000\n",
       "75%    150.250000   49.000000           78.000000               73.000000\n",
       "max    200.000000   70.000000          137.000000               99.000000"
      ]
     },
     "execution_count": 142,
     "metadata": {},
     "output_type": "execute_result"
    }
   ],
   "source": [
    "df.describe()"
   ]
  },
  {
   "cell_type": "code",
   "execution_count": 143,
   "metadata": {
    "colab": {
     "base_uri": "https://localhost:8080/",
     "height": 175
    },
    "id": "qr_0tHtvXwek",
    "outputId": "f6742d63-3d63-4dc5-e37c-573a8d362c94"
   },
   "outputs": [
    {
     "name": "stderr",
     "output_type": "stream",
     "text": [
      "C:\\Users\\shafi\\AppData\\Local\\Temp\\ipykernel_10592\\530051474.py:1: FutureWarning: Dropping of nuisance columns in DataFrame reductions (with 'numeric_only=None') is deprecated; in a future version this will raise TypeError.  Select only valid columns before calling the reduction.\n",
      "  df.median()\n"
     ]
    },
    {
     "data": {
      "text/plain": [
       "CustomerID                100.5\n",
       "Age                        36.0\n",
       "Annual Income (k$)         61.5\n",
       "Spending Score (1-100)     50.0\n",
       "dtype: float64"
      ]
     },
     "execution_count": 143,
     "metadata": {},
     "output_type": "execute_result"
    }
   ],
   "source": [
    "df.median()"
   ]
  },
  {
   "cell_type": "markdown",
   "metadata": {
    "id": "xsBMb24XX367"
   },
   "source": [
    "### 5. Handling Missing values"
   ]
  },
  {
   "cell_type": "code",
   "execution_count": 146,
   "metadata": {
    "colab": {
     "base_uri": "https://localhost:8080/"
    },
    "id": "R30LoxggYCI9",
    "outputId": "bf0786a6-537d-45f3-e20a-9f2f2f949b5a"
   },
   "outputs": [
    {
     "data": {
      "text/plain": [
       "CustomerID                0\n",
       "Gender                    0\n",
       "Age                       0\n",
       "Annual Income (k$)        0\n",
       "Spending Score (1-100)    0\n",
       "dtype: int64"
      ]
     },
     "execution_count": 146,
     "metadata": {},
     "output_type": "execute_result"
    }
   ],
   "source": [
    "df.isnull().sum()"
   ]
  },
  {
   "cell_type": "markdown",
   "metadata": {
    "id": "RxO9_rkuX7b9"
   },
   "source": [
    "### 6. Find the outliers and replace them outliers"
   ]
  },
  {
   "cell_type": "code",
   "execution_count": 145,
   "metadata": {
    "colab": {
     "base_uri": "https://localhost:8080/",
     "height": 299
    },
    "id": "EmiP2EYLYmN0",
    "outputId": "9c3f5bd0-a2a3-43b9-ea2b-b9efb990305e"
   },
   "outputs": [
    {
     "data": {
      "text/plain": [
       "<AxesSubplot:xlabel='Spending Score (1-100)'>"
      ]
     },
     "execution_count": 145,
     "metadata": {},
     "output_type": "execute_result"
    },
    {
     "data": {
      "image/png": "[encoded data removed]",
      "text/plain": [
       "<Figure size 1800x288 with 4 Axes>"
      ]
     },
     "metadata": {
      "needs_background": "light"
     },
     "output_type": "display_data"
    }
   ],
   "source": [
    "fig,ax = plt.subplots(figsize=(25,4))\n",
    "\n",
    "plt.subplot(1,5,1)\n",
    "sns.boxplot(x=df[\"CustomerID\"])\n",
    "\n",
    "plt.subplot(1,5,2)\n",
    "sns.boxplot(x=df[\"Age\"])\n",
    "\n",
    "plt.subplot(1,5,3)\n",
    "sns.boxplot(x=df[\"Annual Income (k$)\"])\n",
    "\n",
    "plt.subplot(1,5,4)\n",
    "sns.boxplot(x=df[\"Spending Score (1-100)\"])"
   ]
  },
  {
   "cell_type": "code",
   "execution_count": 39,
   "metadata": {
    "colab": {
     "base_uri": "https://localhost:8080/",
     "height": 112
    },
    "id": "voZStNScZVHr",
    "outputId": "828ddb0c-98db-449e-8ba5-0698826e1bd5"
   },
   "outputs": [
    {
     "data": {
      "text/html": [
       "<div>\n",
       "<style scoped>\n",
       "    .dataframe tbody tr th:only-of-type {\n",
       "        vertical-align: middle;\n",
       "    }\n",
       "\n",
       "    .dataframe tbody tr th {\n",
       "        vertical-align: top;\n",
       "    }\n",
       "\n",
       "    .dataframe thead th {\n",
       "        text-align: right;\n",
       "    }\n",
       "</style>\n",
       "<table border=\"1\" class=\"dataframe\">\n",
       "  <thead>\n",
       "    <tr style=\"text-align: right;\">\n",
       "      <th></th>\n",
       "      <th>CustomerID</th>\n",
       "      <th>Age</th>\n",
       "      <th>Annual Income (k$)</th>\n",
       "      <th>Spending Score (1-100)</th>\n",
       "    </tr>\n",
       "  </thead>\n",
       "  <tbody>\n",
       "    <tr>\n",
       "      <th>0.25</th>\n",
       "      <td>50.75</td>\n",
       "      <td>28.75</td>\n",
       "      <td>41.5</td>\n",
       "      <td>34.75</td>\n",
       "    </tr>\n",
       "    <tr>\n",
       "      <th>0.75</th>\n",
       "      <td>150.25</td>\n",
       "      <td>49.00</td>\n",
       "      <td>78.0</td>\n",
       "      <td>73.00</td>\n",
       "    </tr>\n",
       "  </tbody>\n",
       "</table>\n",
       "</div>"
      ],
      "text/plain": [
       "      CustomerID    Age  Annual Income (k$)  Spending Score (1-100)\n",
       "0.25       50.75  28.75                41.5                   34.75\n",
       "0.75      150.25  49.00                78.0                   73.00"
      ]
     },
     "execution_count": 39,
     "metadata": {},
     "output_type": "execute_result"
    }
   ],
   "source": [
    "qnt=df.quantile(q=[0.25,0.75])\n",
    "qnt"
   ]
  },
  {
   "cell_type": "code",
   "execution_count": 41,
   "metadata": {
    "colab": {
     "base_uri": "https://localhost:8080/"
    },
    "id": "UsZmnXZKZnb5",
    "outputId": "d500a303-51f2-4bb8-f37c-75703d6665df"
   },
   "outputs": [
    {
     "data": {
      "text/plain": [
       "CustomerID                99.50\n",
       "Age                       20.25\n",
       "Annual Income (k$)        36.50\n",
       "Spending Score (1-100)    38.25\n",
       "dtype: float64"
      ]
     },
     "execution_count": 41,
     "metadata": {},
     "output_type": "execute_result"
    }
   ],
   "source": [
    "iqr=qnt.loc[0.75]-qnt.loc[0.25]\n",
    "iqr"
   ]
  },
  {
   "cell_type": "code",
   "execution_count": 150,
   "metadata": {
    "colab": {
     "base_uri": "https://localhost:8080/"
    },
    "id": "6qIiLvlsZgLz",
    "outputId": "39e1aba1-d147-4a72-9f13-49ed731914a7"
   },
   "outputs": [
    {
     "data": {
      "text/plain": [
       "CustomerID               -98.500\n",
       "Age                       -1.625\n",
       "Annual Income (k$)       -13.250\n",
       "Spending Score (1-100)   -22.625\n",
       "dtype: float64"
      ]
     },
     "execution_count": 150,
     "metadata": {},
     "output_type": "execute_result"
    }
   ],
   "source": [
    "lower=qnt.loc[0.25]-(1.5*iqr)\n",
    "lower"
   ]
  },
  {
   "cell_type": "code",
   "execution_count": 151,
   "metadata": {
    "colab": {
     "base_uri": "https://localhost:8080/"
    },
    "id": "h2gTnOdQZsSB",
    "outputId": "f6ec3c51-9ae1-4ecc-825c-79ffc0aa3703"
   },
   "outputs": [
    {
     "data": {
      "text/plain": [
       "CustomerID                299.500\n",
       "Age                        79.375\n",
       "Annual Income (k$)        132.750\n",
       "Spending Score (1-100)    130.375\n",
       "dtype: float64"
      ]
     },
     "execution_count": 151,
     "metadata": {},
     "output_type": "execute_result"
    }
   ],
   "source": [
    "upper=qnt.loc[0.75]+(1.5*iqr)\n",
    "upper"
   ]
  },
  {
   "cell_type": "code",
   "execution_count": 152,
   "metadata": {
    "colab": {
     "base_uri": "https://localhost:8080/"
    },
    "id": "akPS57GkZxbs",
    "outputId": "5b8b7325-7bba-448b-cdfa-d0a53cf125fc"
   },
   "outputs": [
    {
     "name": "stderr",
     "output_type": "stream",
     "text": [
      "C:\\Users\\shafi\\AppData\\Local\\Temp\\ipykernel_10592\\3698961737.py:1: FutureWarning: Dropping of nuisance columns in DataFrame reductions (with 'numeric_only=None') is deprecated; in a future version this will raise TypeError.  Select only valid columns before calling the reduction.\n",
      "  df.mean()\n"
     ]
    },
    {
     "data": {
      "text/plain": [
       "CustomerID                100.50\n",
       "Age                        38.85\n",
       "Annual Income (k$)         60.56\n",
       "Spending Score (1-100)     50.20\n",
       "dtype: float64"
      ]
     },
     "execution_count": 152,
     "metadata": {},
     "output_type": "execute_result"
    }
   ],
   "source": [
    "df.mean()"
   ]
  },
  {
   "cell_type": "code",
   "execution_count": 53,
   "metadata": {
    "id": "wjjruiUKZyuZ"
   },
   "outputs": [],
   "source": [
    "df['Annual Income (k$)']=np.where(df['Annual Income (k$)']>132.750,-13.250,df['Annual Income (k$)'])"
   ]
  },
  {
   "cell_type": "code",
   "execution_count": 54,
   "metadata": {
    "colab": {
     "base_uri": "https://localhost:8080/",
     "height": 296
    },
    "id": "ufKTCB7harlm",
    "outputId": "8b47332e-6dd8-4f8c-fe87-cc9f30ed4284"
   },
   "outputs": [
    {
     "data": {
      "text/plain": [
       "<AxesSubplot:xlabel='Annual Income (k$)'>"
      ]
     },
     "execution_count": 54,
     "metadata": {},
     "output_type": "execute_result"
    },
    {
     "data": {
      "image/png": "[encoded data removed]",
      "text/plain": [
       "<Figure size 432x288 with 1 Axes>"
      ]
     },
     "metadata": {
      "needs_background": "light"
     },
     "output_type": "display_data"
    }
   ],
   "source": [
    "sns.boxplot(x=df['Annual Income (k$)'])"
   ]
  },
  {
   "cell_type": "markdown",
   "metadata": {
    "id": "w1j8etaiazjz"
   },
   "source": [
    "### 7. Check for Categorical columns and perform encoding"
   ]
  },
  {
   "cell_type": "code",
   "execution_count": 65,
   "metadata": {
    "colab": {
     "base_uri": "https://localhost:8080/",
     "height": 206
    },
    "id": "tZMp4QbMa1iO",
    "outputId": "a18d60e9-8d51-4476-f5fc-a705aa90968c"
   },
   "outputs": [
    {
     "data": {
      "text/html": [
       "<div>\n",
       "<style scoped>\n",
       "    .dataframe tbody tr th:only-of-type {\n",
       "        vertical-align: middle;\n",
       "    }\n",
       "\n",
       "    .dataframe tbody tr th {\n",
       "        vertical-align: top;\n",
       "    }\n",
       "\n",
       "    .dataframe thead th {\n",
       "        text-align: right;\n",
       "    }\n",
       "</style>\n",
       "<table border=\"1\" class=\"dataframe\">\n",
       "  <thead>\n",
       "    <tr style=\"text-align: right;\">\n",
       "      <th></th>\n",
       "      <th>CustomerID</th>\n",
       "      <th>Gender</th>\n",
       "      <th>Age</th>\n",
       "      <th>Annual Income (k$)</th>\n",
       "      <th>Spending Score (1-100)</th>\n",
       "    </tr>\n",
       "  </thead>\n",
       "  <tbody>\n",
       "    <tr>\n",
       "      <th>0</th>\n",
       "      <td>1</td>\n",
       "      <td>1</td>\n",
       "      <td>19</td>\n",
       "      <td>15.0</td>\n",
       "      <td>39</td>\n",
       "    </tr>\n",
       "    <tr>\n",
       "      <th>1</th>\n",
       "      <td>2</td>\n",
       "      <td>1</td>\n",
       "      <td>21</td>\n",
       "      <td>15.0</td>\n",
       "      <td>81</td>\n",
       "    </tr>\n",
       "    <tr>\n",
       "      <th>2</th>\n",
       "      <td>3</td>\n",
       "      <td>0</td>\n",
       "      <td>20</td>\n",
       "      <td>16.0</td>\n",
       "      <td>6</td>\n",
       "    </tr>\n",
       "    <tr>\n",
       "      <th>3</th>\n",
       "      <td>4</td>\n",
       "      <td>0</td>\n",
       "      <td>23</td>\n",
       "      <td>16.0</td>\n",
       "      <td>77</td>\n",
       "    </tr>\n",
       "    <tr>\n",
       "      <th>4</th>\n",
       "      <td>5</td>\n",
       "      <td>0</td>\n",
       "      <td>31</td>\n",
       "      <td>17.0</td>\n",
       "      <td>40</td>\n",
       "    </tr>\n",
       "  </tbody>\n",
       "</table>\n",
       "</div>"
      ],
      "text/plain": [
       "   CustomerID  Gender  Age  Annual Income (k$)  Spending Score (1-100)\n",
       "0           1       1   19                15.0                      39\n",
       "1           2       1   21                15.0                      81\n",
       "2           3       0   20                16.0                       6\n",
       "3           4       0   23                16.0                      77\n",
       "4           5       0   31                17.0                      40"
      ]
     },
     "execution_count": 65,
     "metadata": {},
     "output_type": "execute_result"
    }
   ],
   "source": [
    "df.head()"
   ]
  },
  {
   "cell_type": "code",
   "execution_count": 153,
   "metadata": {},
   "outputs": [
    {
     "data": {
      "text/plain": [
       "array(['Male', 'Female'], dtype=object)"
      ]
     },
     "execution_count": 153,
     "metadata": {},
     "output_type": "execute_result"
    }
   ],
   "source": [
    "df['Gender'].unique()"
   ]
  },
  {
   "cell_type": "code",
   "execution_count": 154,
   "metadata": {},
   "outputs": [],
   "source": [
    "df['Gender'].replace({'Male':1, 'Female':0},inplace=True)"
   ]
  },
  {
   "cell_type": "code",
   "execution_count": 155,
   "metadata": {
    "colab": {
     "base_uri": "https://localhost:8080/"
    },
    "id": "5baeuZE8bIF-",
    "outputId": "addbfb9b-71a0-4498-fb7e-99a6fe24271f"
   },
   "outputs": [
    {
     "data": {
      "text/html": [
       "<div>\n",
       "<style scoped>\n",
       "    .dataframe tbody tr th:only-of-type {\n",
       "        vertical-align: middle;\n",
       "    }\n",
       "\n",
       "    .dataframe tbody tr th {\n",
       "        vertical-align: top;\n",
       "    }\n",
       "\n",
       "    .dataframe thead th {\n",
       "        text-align: right;\n",
       "    }\n",
       "</style>\n",
       "<table border=\"1\" class=\"dataframe\">\n",
       "  <thead>\n",
       "    <tr style=\"text-align: right;\">\n",
       "      <th></th>\n",
       "      <th>CustomerID</th>\n",
       "      <th>Gender</th>\n",
       "      <th>Age</th>\n",
       "      <th>Annual Income (k$)</th>\n",
       "      <th>Spending Score (1-100)</th>\n",
       "    </tr>\n",
       "  </thead>\n",
       "  <tbody>\n",
       "    <tr>\n",
       "      <th>0</th>\n",
       "      <td>1</td>\n",
       "      <td>1</td>\n",
       "      <td>19</td>\n",
       "      <td>15</td>\n",
       "      <td>39</td>\n",
       "    </tr>\n",
       "    <tr>\n",
       "      <th>1</th>\n",
       "      <td>2</td>\n",
       "      <td>1</td>\n",
       "      <td>21</td>\n",
       "      <td>15</td>\n",
       "      <td>81</td>\n",
       "    </tr>\n",
       "    <tr>\n",
       "      <th>2</th>\n",
       "      <td>3</td>\n",
       "      <td>0</td>\n",
       "      <td>20</td>\n",
       "      <td>16</td>\n",
       "      <td>6</td>\n",
       "    </tr>\n",
       "    <tr>\n",
       "      <th>3</th>\n",
       "      <td>4</td>\n",
       "      <td>0</td>\n",
       "      <td>23</td>\n",
       "      <td>16</td>\n",
       "      <td>77</td>\n",
       "    </tr>\n",
       "    <tr>\n",
       "      <th>4</th>\n",
       "      <td>5</td>\n",
       "      <td>0</td>\n",
       "      <td>31</td>\n",
       "      <td>17</td>\n",
       "      <td>40</td>\n",
       "    </tr>\n",
       "  </tbody>\n",
       "</table>\n",
       "</div>"
      ],
      "text/plain": [
       "   CustomerID  Gender  Age  Annual Income (k$)  Spending Score (1-100)\n",
       "0           1       1   19                  15                      39\n",
       "1           2       1   21                  15                      81\n",
       "2           3       0   20                  16                       6\n",
       "3           4       0   23                  16                      77\n",
       "4           5       0   31                  17                      40"
      ]
     },
     "execution_count": 155,
     "metadata": {},
     "output_type": "execute_result"
    }
   ],
   "source": [
    "df.head()"
   ]
  },
  {
   "cell_type": "markdown",
   "metadata": {
    "id": "KBVtx1Zia84m"
   },
   "source": [
    "### 8. Scaling the data"
   ]
  },
  {
   "cell_type": "code",
   "execution_count": 156,
   "metadata": {
    "id": "XwipRvR-dvec"
   },
   "outputs": [],
   "source": [
    "from sklearn.preprocessing import MinMaxScaler\n",
    "sc=MinMaxScaler()"
   ]
  },
  {
   "cell_type": "code",
   "execution_count": 157,
   "metadata": {
    "colab": {
     "base_uri": "https://localhost:8080/"
    },
    "id": "HQNge70xeWDg",
    "outputId": "787a9359-3be5-461e-a515-3354b057aa4a"
   },
   "outputs": [
    {
     "data": {
      "text/plain": [
       "array([[1.        , 0.01923077, 0.        , 0.3877551 ],\n",
       "       [1.        , 0.05769231, 0.        , 0.81632653],\n",
       "       [0.        , 0.03846154, 0.00819672, 0.05102041],\n",
       "       [0.        , 0.09615385, 0.00819672, 0.7755102 ],\n",
       "       [0.        , 0.25      , 0.01639344, 0.39795918],\n",
       "       [0.        , 0.07692308, 0.01639344, 0.76530612],\n",
       "       [0.        , 0.32692308, 0.02459016, 0.05102041],\n",
       "       [0.        , 0.09615385, 0.02459016, 0.94897959],\n",
       "       [1.        , 0.88461538, 0.03278689, 0.02040816],\n",
       "       [0.        , 0.23076923, 0.03278689, 0.7244898 ],\n",
       "       [1.        , 0.94230769, 0.03278689, 0.13265306],\n",
       "       [0.        , 0.32692308, 0.03278689, 1.        ],\n",
       "       [0.        , 0.76923077, 0.04098361, 0.14285714],\n",
       "       [0.        , 0.11538462, 0.04098361, 0.7755102 ],\n",
       "       [1.        , 0.36538462, 0.04098361, 0.12244898],\n",
       "       [1.        , 0.07692308, 0.04098361, 0.79591837],\n",
       "       [0.        , 0.32692308, 0.04918033, 0.34693878],\n",
       "       [1.        , 0.03846154, 0.04918033, 0.66326531],\n",
       "       [1.        , 0.65384615, 0.06557377, 0.28571429],\n",
       "       [0.        , 0.32692308, 0.06557377, 0.98979592],\n",
       "       [1.        , 0.32692308, 0.07377049, 0.34693878],\n",
       "       [1.        , 0.13461538, 0.07377049, 0.73469388],\n",
       "       [0.        , 0.53846154, 0.08196721, 0.04081633],\n",
       "       [1.        , 0.25      , 0.08196721, 0.73469388],\n",
       "       [0.        , 0.69230769, 0.10655738, 0.13265306],\n",
       "       [1.        , 0.21153846, 0.10655738, 0.82653061],\n",
       "       [0.        , 0.51923077, 0.10655738, 0.31632653],\n",
       "       [1.        , 0.32692308, 0.10655738, 0.6122449 ],\n",
       "       [0.        , 0.42307692, 0.1147541 , 0.30612245],\n",
       "       [0.        , 0.09615385, 0.1147541 , 0.87755102],\n",
       "       [1.        , 0.80769231, 0.12295082, 0.03061224],\n",
       "       [0.        , 0.05769231, 0.12295082, 0.73469388],\n",
       "       [1.        , 0.67307692, 0.14754098, 0.03061224],\n",
       "       [1.        , 0.        , 0.14754098, 0.92857143],\n",
       "       [0.        , 0.59615385, 0.14754098, 0.13265306],\n",
       "       [0.        , 0.05769231, 0.14754098, 0.81632653],\n",
       "       [0.        , 0.46153846, 0.1557377 , 0.16326531],\n",
       "       [0.        , 0.23076923, 0.1557377 , 0.73469388],\n",
       "       [0.        , 0.34615385, 0.18032787, 0.25510204],\n",
       "       [0.        , 0.03846154, 0.18032787, 0.75510204],\n",
       "       [0.        , 0.90384615, 0.18852459, 0.34693878],\n",
       "       [1.        , 0.11538462, 0.18852459, 0.92857143],\n",
       "       [1.        , 0.57692308, 0.19672131, 0.35714286],\n",
       "       [0.        , 0.25      , 0.19672131, 0.6122449 ],\n",
       "       [0.        , 0.59615385, 0.19672131, 0.2755102 ],\n",
       "       [0.        , 0.11538462, 0.19672131, 0.65306122],\n",
       "       [0.        , 0.61538462, 0.20491803, 0.55102041],\n",
       "       [0.        , 0.17307692, 0.20491803, 0.46938776],\n",
       "       [0.        , 0.21153846, 0.20491803, 0.41836735],\n",
       "       [0.        , 0.25      , 0.20491803, 0.41836735],\n",
       "       [0.        , 0.59615385, 0.22131148, 0.52040816],\n",
       "       [1.        , 0.28846154, 0.22131148, 0.60204082],\n",
       "       [0.        , 0.25      , 0.2295082 , 0.54081633],\n",
       "       [1.        , 0.78846154, 0.2295082 , 0.60204082],\n",
       "       [0.        , 0.61538462, 0.2295082 , 0.44897959],\n",
       "       [1.        , 0.55769231, 0.2295082 , 0.40816327],\n",
       "       [0.        , 0.63461538, 0.23770492, 0.5       ],\n",
       "       [1.        , 0.98076923, 0.23770492, 0.45918367],\n",
       "       [0.        , 0.17307692, 0.25409836, 0.51020408],\n",
       "       [1.        , 0.67307692, 0.25409836, 0.45918367],\n",
       "       [1.        , 1.        , 0.25409836, 0.56122449],\n",
       "       [1.        , 0.01923077, 0.25409836, 0.55102041],\n",
       "       [0.        , 0.94230769, 0.26229508, 0.52040816],\n",
       "       [0.        , 0.69230769, 0.26229508, 0.59183673],\n",
       "       [1.        , 0.86538462, 0.2704918 , 0.51020408],\n",
       "       [1.        , 0.        , 0.2704918 , 0.59183673],\n",
       "       [0.        , 0.48076923, 0.2704918 , 0.5       ],\n",
       "       [0.        , 0.96153846, 0.2704918 , 0.47959184],\n",
       "       [1.        , 0.01923077, 0.2704918 , 0.59183673],\n",
       "       [0.        , 0.26923077, 0.2704918 , 0.46938776],\n",
       "       [1.        , 1.        , 0.27868852, 0.55102041],\n",
       "       [0.        , 0.55769231, 0.27868852, 0.41836735],\n",
       "       [0.        , 0.80769231, 0.28688525, 0.48979592],\n",
       "       [0.        , 0.80769231, 0.28688525, 0.56122449],\n",
       "       [1.        , 0.78846154, 0.31967213, 0.46938776],\n",
       "       [1.        , 0.15384615, 0.31967213, 0.54081633],\n",
       "       [0.        , 0.51923077, 0.31967213, 0.53061224],\n",
       "       [1.        , 0.42307692, 0.31967213, 0.47959184],\n",
       "       [0.        , 0.09615385, 0.31967213, 0.52040816],\n",
       "       [0.        , 0.59615385, 0.31967213, 0.41836735],\n",
       "       [1.        , 0.75      , 0.31967213, 0.51020408],\n",
       "       [1.        , 0.38461538, 0.31967213, 0.55102041],\n",
       "       [1.        , 0.94230769, 0.31967213, 0.40816327],\n",
       "       [0.        , 0.53846154, 0.31967213, 0.43877551],\n",
       "       [0.        , 0.05769231, 0.31967213, 0.57142857],\n",
       "       [1.        , 0.57692308, 0.31967213, 0.45918367],\n",
       "       [0.        , 0.71153846, 0.3442623 , 0.58163265],\n",
       "       [0.        , 0.07692308, 0.3442623 , 0.55102041],\n",
       "       [0.        , 0.30769231, 0.35245902, 0.60204082],\n",
       "       [0.        , 0.61538462, 0.35245902, 0.45918367],\n",
       "       [0.        , 0.96153846, 0.36065574, 0.55102041],\n",
       "       [1.        , 0.        , 0.36065574, 0.40816327],\n",
       "       [1.        , 0.57692308, 0.36885246, 0.48979592],\n",
       "       [0.        , 0.42307692, 0.36885246, 0.39795918],\n",
       "       [0.        , 0.26923077, 0.36885246, 0.41836735],\n",
       "       [1.        , 0.11538462, 0.36885246, 0.52040816],\n",
       "       [0.        , 0.55769231, 0.36885246, 0.46938776],\n",
       "       [0.        , 0.17307692, 0.36885246, 0.5       ],\n",
       "       [1.        , 0.57692308, 0.37704918, 0.41836735],\n",
       "       [1.        , 0.03846154, 0.37704918, 0.48979592],\n",
       "       [0.        , 0.09615385, 0.3852459 , 0.40816327],\n",
       "       [0.        , 0.59615385, 0.3852459 , 0.47959184],\n",
       "       [1.        , 0.94230769, 0.3852459 , 0.59183673],\n",
       "       [1.        , 0.15384615, 0.3852459 , 0.55102041],\n",
       "       [1.        , 0.59615385, 0.3852459 , 0.56122449],\n",
       "       [0.        , 0.05769231, 0.3852459 , 0.41836735],\n",
       "       [0.        , 0.92307692, 0.39344262, 0.5       ],\n",
       "       [1.        , 0.69230769, 0.39344262, 0.45918367],\n",
       "       [1.        , 0.96153846, 0.39344262, 0.42857143],\n",
       "       [1.        , 0.92307692, 0.39344262, 0.47959184],\n",
       "       [1.        , 0.90384615, 0.39344262, 0.52040816],\n",
       "       [0.        , 0.01923077, 0.39344262, 0.54081633],\n",
       "       [0.        , 0.38461538, 0.40163934, 0.41836735],\n",
       "       [1.        , 0.01923077, 0.40163934, 0.45918367],\n",
       "       [0.        , 0.        , 0.40983607, 0.47959184],\n",
       "       [0.        , 0.01923077, 0.40983607, 0.5       ],\n",
       "       [0.        , 0.86538462, 0.40983607, 0.42857143],\n",
       "       [0.        , 0.59615385, 0.40983607, 0.59183673],\n",
       "       [0.        , 0.63461538, 0.42622951, 0.42857143],\n",
       "       [0.        , 0.61538462, 0.42622951, 0.57142857],\n",
       "       [1.        , 0.17307692, 0.42622951, 0.56122449],\n",
       "       [0.        , 0.38461538, 0.42622951, 0.39795918],\n",
       "       [0.        , 0.42307692, 0.44262295, 0.58163265],\n",
       "       [1.        , 0.40384615, 0.44262295, 0.91836735],\n",
       "       [0.        , 0.09615385, 0.45081967, 0.28571429],\n",
       "       [0.        , 0.25      , 0.45081967, 0.7755102 ],\n",
       "       [1.        , 0.48076923, 0.45901639, 0.34693878],\n",
       "       [1.        , 0.42307692, 0.45901639, 0.95918367],\n",
       "       [1.        , 0.78846154, 0.45901639, 0.10204082],\n",
       "       [1.        , 0.38461538, 0.45901639, 0.75510204],\n",
       "       [1.        , 0.55769231, 0.45901639, 0.08163265],\n",
       "       [1.        , 0.40384615, 0.45901639, 0.75510204],\n",
       "       [0.        , 0.13461538, 0.46721311, 0.33673469],\n",
       "       [0.        , 0.25      , 0.46721311, 0.71428571],\n",
       "       [1.        , 0.03846154, 0.47540984, 0.04081633],\n",
       "       [0.        , 0.21153846, 0.47540984, 0.8877551 ],\n",
       "       [0.        , 0.5       , 0.47540984, 0.06122449],\n",
       "       [1.        , 0.26923077, 0.47540984, 0.73469388],\n",
       "       [1.        , 0.01923077, 0.48360656, 0.09183673],\n",
       "       [0.        , 0.32692308, 0.48360656, 0.7244898 ],\n",
       "       [0.        , 0.75      , 0.49180328, 0.04081633],\n",
       "       [1.        , 0.26923077, 0.49180328, 0.93877551],\n",
       "       [0.        , 0.19230769, 0.5       , 0.39795918],\n",
       "       [0.        , 0.26923077, 0.5       , 0.87755102],\n",
       "       [1.        , 0.13461538, 0.50819672, 0.1122449 ],\n",
       "       [1.        , 0.19230769, 0.50819672, 0.97959184],\n",
       "       [1.        , 0.57692308, 0.50819672, 0.35714286],\n",
       "       [0.        , 0.26923077, 0.50819672, 0.74489796],\n",
       "       [0.        , 0.30769231, 0.51639344, 0.21428571],\n",
       "       [1.        , 0.30769231, 0.51639344, 0.90816327],\n",
       "       [1.        , 0.48076923, 0.51639344, 0.16326531],\n",
       "       [1.        , 0.40384615, 0.51639344, 0.8877551 ],\n",
       "       [0.        , 0.5       , 0.51639344, 0.19387755],\n",
       "       [0.        , 0.38461538, 0.51639344, 0.76530612],\n",
       "       [0.        , 0.55769231, 0.51639344, 0.15306122],\n",
       "       [0.        , 0.17307692, 0.51639344, 0.89795918],\n",
       "       [1.        , 0.36538462, 0.51639344, 0.        ],\n",
       "       [0.        , 0.23076923, 0.51639344, 0.78571429],\n",
       "       [1.        , 0.30769231, 0.51639344, 0.        ],\n",
       "       [0.        , 0.23076923, 0.51639344, 0.73469388],\n",
       "       [0.        , 0.73076923, 0.52459016, 0.34693878],\n",
       "       [0.        , 0.21153846, 0.52459016, 0.83673469],\n",
       "       [1.        , 0.01923077, 0.54098361, 0.04081633],\n",
       "       [0.        , 0.25      , 0.54098361, 0.93877551],\n",
       "       [1.        , 0.61538462, 0.57377049, 0.25510204],\n",
       "       [0.        , 0.34615385, 0.57377049, 0.75510204],\n",
       "       [1.        , 0.46153846, 0.58196721, 0.19387755],\n",
       "       [0.        , 0.28846154, 0.58196721, 0.95918367],\n",
       "       [0.        , 0.34615385, 0.59016393, 0.26530612],\n",
       "       [1.        , 0.26923077, 0.59016393, 0.63265306],\n",
       "       [1.        , 0.42307692, 0.59016393, 0.12244898],\n",
       "       [1.        , 0.19230769, 0.59016393, 0.75510204],\n",
       "       [1.        , 0.34615385, 0.59016393, 0.09183673],\n",
       "       [1.        , 0.34615385, 0.59016393, 0.92857143],\n",
       "       [0.        , 0.65384615, 0.59836066, 0.12244898],\n",
       "       [0.        , 0.23076923, 0.59836066, 0.86734694],\n",
       "       [1.        , 0.76923077, 0.59836066, 0.14285714],\n",
       "       [1.        , 0.17307692, 0.59836066, 0.69387755],\n",
       "       [1.        , 0.78846154, 0.63934426, 0.13265306],\n",
       "       [1.        , 0.32692308, 0.63934426, 0.90816327],\n",
       "       [0.        , 0.36538462, 0.67213115, 0.31632653],\n",
       "       [0.        , 0.26923077, 0.67213115, 0.86734694],\n",
       "       [1.        , 0.53846154, 0.68032787, 0.14285714],\n",
       "       [0.        , 0.21153846, 0.68032787, 0.8877551 ],\n",
       "       [0.        , 0.44230769, 0.68852459, 0.3877551 ],\n",
       "       [1.        , 0.23076923, 0.68852459, 0.97959184],\n",
       "       [0.        , 0.69230769, 0.70491803, 0.23469388],\n",
       "       [1.        , 0.19230769, 0.70491803, 0.68367347],\n",
       "       [0.        , 0.44230769, 0.72131148, 0.16326531],\n",
       "       [0.        , 0.34615385, 0.72131148, 0.85714286],\n",
       "       [0.        , 0.30769231, 0.72131148, 0.2244898 ],\n",
       "       [0.        , 0.26923077, 0.72131148, 0.69387755],\n",
       "       [1.        , 0.28846154, 0.80327869, 0.07142857],\n",
       "       [0.        , 0.38461538, 0.80327869, 0.91836735],\n",
       "       [0.        , 0.55769231, 0.86065574, 0.15306122],\n",
       "       [0.        , 0.32692308, 0.86065574, 0.79591837],\n",
       "       [0.        , 0.51923077, 0.90983607, 0.2755102 ],\n",
       "       [1.        , 0.26923077, 0.90983607, 0.74489796],\n",
       "       [1.        , 0.26923077, 1.        , 0.17346939],\n",
       "       [1.        , 0.23076923, 1.        , 0.83673469]])"
      ]
     },
     "execution_count": 157,
     "metadata": {},
     "output_type": "execute_result"
    }
   ],
   "source": [
    "data=sc.fit_transform(df.iloc[:,1:])\n",
    "data"
   ]
  },
  {
   "cell_type": "markdown",
   "metadata": {
    "id": "ufyiyreye-Tv"
   },
   "source": [
    "### 9. Perform any of the clustering algorithms"
   ]
  },
  {
   "cell_type": "markdown",
   "metadata": {},
   "source": [
    "#### K-Means Clustering"
   ]
  },
  {
   "cell_type": "code",
   "execution_count": 158,
   "metadata": {
    "id": "cIbPmSTfe_0e"
   },
   "outputs": [],
   "source": [
    "from sklearn.cluster import KMeans"
   ]
  },
  {
   "cell_type": "code",
   "execution_count": 159,
   "metadata": {
    "id": "jzWdNLlyfEfc"
   },
   "outputs": [],
   "source": [
    "TWSS=[]\n",
    "k=list(range(2,9))\n",
    "\n",
    "for i in k:\n",
    "    kmeans=KMeans(n_clusters=i,init='k-means++')\n",
    "    kmeans.fit(data)\n",
    "    TWSS.append(kmeans.inertia_)"
   ]
  },
  {
   "cell_type": "code",
   "execution_count": 160,
   "metadata": {
    "colab": {
     "base_uri": "https://localhost:8080/"
    },
    "id": "vJYQG7O2fICl",
    "outputId": "427524fa-39c1-4adc-bbfc-777f732d2788"
   },
   "outputs": [
    {
     "data": {
      "text/plain": [
       "[37.27227241211876,\n",
       " 29.552857611943857,\n",
       " 22.390960011928552,\n",
       " 19.06284091969291,\n",
       " 16.4156709816699,\n",
       " 14.204916470576654,\n",
       " 12.346125452739162]"
      ]
     },
     "execution_count": 160,
     "metadata": {},
     "output_type": "execute_result"
    }
   ],
   "source": [
    "TWSS"
   ]
  },
  {
   "cell_type": "code",
   "execution_count": 161,
   "metadata": {
    "colab": {
     "base_uri": "https://localhost:8080/",
     "height": 296
    },
    "id": "VqRGh1P_fLSF",
    "outputId": "e1535938-fdaa-4bfa-eec4-42a5637c0b5a"
   },
   "outputs": [
    {
     "data": {
      "text/plain": [
       "Text(0, 0.5, 'TWSS')"
      ]
     },
     "execution_count": 161,
     "metadata": {},
     "output_type": "execute_result"
    },
    {
     "data": {
      "image/png": "[encoded data removed]",
      "text/plain": [
       "<Figure size 432x288 with 1 Axes>"
      ]
     },
     "metadata": {
      "needs_background": "light"
     },
     "output_type": "display_data"
    }
   ],
   "source": [
    "plt.plot(k,TWSS,'ro--')\n",
    "plt.xlabel('no of cluster')\n",
    "plt.ylabel('TWSS')"
   ]
  },
  {
   "cell_type": "code",
   "execution_count": 164,
   "metadata": {
    "colab": {
     "base_uri": "https://localhost:8080/"
    },
    "id": "TSN86garfPs0",
    "outputId": "6f925008-c715-4e0e-b04a-169058aadd09"
   },
   "outputs": [
    {
     "data": {
      "text/plain": [
       "KMeans(n_clusters=4)"
      ]
     },
     "execution_count": 164,
     "metadata": {},
     "output_type": "execute_result"
    }
   ],
   "source": [
    "model=KMeans(n_clusters=4)\n",
    "model.fit(data)"
   ]
  },
  {
   "cell_type": "code",
   "execution_count": 165,
   "metadata": {
    "id": "bw61JDIxfVJH"
   },
   "outputs": [],
   "source": [
    "mb=pd.Series(model.labels_)"
   ]
  },
  {
   "cell_type": "code",
   "execution_count": 166,
   "metadata": {
    "colab": {
     "base_uri": "https://localhost:8080/",
     "height": 143
    },
    "id": "C82mtcJafX5h",
    "outputId": "7d3e2daf-7b70-4fdc-d90d-54150592c024"
   },
   "outputs": [
    {
     "data": {
      "text/html": [
       "<div>\n",
       "<style scoped>\n",
       "    .dataframe tbody tr th:only-of-type {\n",
       "        vertical-align: middle;\n",
       "    }\n",
       "\n",
       "    .dataframe tbody tr th {\n",
       "        vertical-align: top;\n",
       "    }\n",
       "\n",
       "    .dataframe thead th {\n",
       "        text-align: right;\n",
       "    }\n",
       "</style>\n",
       "<table border=\"1\" class=\"dataframe\">\n",
       "  <thead>\n",
       "    <tr style=\"text-align: right;\">\n",
       "      <th></th>\n",
       "      <th>CustomerID</th>\n",
       "      <th>Gender</th>\n",
       "      <th>Age</th>\n",
       "      <th>Annual Income (k$)</th>\n",
       "      <th>Spending Score (1-100)</th>\n",
       "    </tr>\n",
       "  </thead>\n",
       "  <tbody>\n",
       "    <tr>\n",
       "      <th>0</th>\n",
       "      <td>1</td>\n",
       "      <td>1</td>\n",
       "      <td>19</td>\n",
       "      <td>15</td>\n",
       "      <td>39</td>\n",
       "    </tr>\n",
       "    <tr>\n",
       "      <th>1</th>\n",
       "      <td>2</td>\n",
       "      <td>1</td>\n",
       "      <td>21</td>\n",
       "      <td>15</td>\n",
       "      <td>81</td>\n",
       "    </tr>\n",
       "    <tr>\n",
       "      <th>2</th>\n",
       "      <td>3</td>\n",
       "      <td>0</td>\n",
       "      <td>20</td>\n",
       "      <td>16</td>\n",
       "      <td>6</td>\n",
       "    </tr>\n",
       "  </tbody>\n",
       "</table>\n",
       "</div>"
      ],
      "text/plain": [
       "   CustomerID  Gender  Age  Annual Income (k$)  Spending Score (1-100)\n",
       "0           1       1   19                  15                      39\n",
       "1           2       1   21                  15                      81\n",
       "2           3       0   20                  16                       6"
      ]
     },
     "execution_count": 166,
     "metadata": {},
     "output_type": "execute_result"
    }
   ],
   "source": [
    "df.head(3)"
   ]
  },
  {
   "cell_type": "markdown",
   "metadata": {
    "id": "nfyMswxkgZpn"
   },
   "source": [
    "### 10. Add the cluster data with the primary dataset"
   ]
  },
  {
   "cell_type": "code",
   "execution_count": 167,
   "metadata": {
    "id": "NKOW_EYvgHLS"
   },
   "outputs": [],
   "source": [
    "df['clust']=mb"
   ]
  },
  {
   "cell_type": "code",
   "execution_count": 168,
   "metadata": {
    "colab": {
     "base_uri": "https://localhost:8080/",
     "height": 206
    },
    "id": "eHNUSRijgPNI",
    "outputId": "ffc2b01f-dc69-4cbb-a0c2-dcf888c4e1c4"
   },
   "outputs": [
    {
     "data": {
      "text/html": [
       "<div>\n",
       "<style scoped>\n",
       "    .dataframe tbody tr th:only-of-type {\n",
       "        vertical-align: middle;\n",
       "    }\n",
       "\n",
       "    .dataframe tbody tr th {\n",
       "        vertical-align: top;\n",
       "    }\n",
       "\n",
       "    .dataframe thead th {\n",
       "        text-align: right;\n",
       "    }\n",
       "</style>\n",
       "<table border=\"1\" class=\"dataframe\">\n",
       "  <thead>\n",
       "    <tr style=\"text-align: right;\">\n",
       "      <th></th>\n",
       "      <th>CustomerID</th>\n",
       "      <th>Gender</th>\n",
       "      <th>Age</th>\n",
       "      <th>Annual Income (k$)</th>\n",
       "      <th>Spending Score (1-100)</th>\n",
       "      <th>clust</th>\n",
       "    </tr>\n",
       "  </thead>\n",
       "  <tbody>\n",
       "    <tr>\n",
       "      <th>0</th>\n",
       "      <td>1</td>\n",
       "      <td>1</td>\n",
       "      <td>19</td>\n",
       "      <td>15</td>\n",
       "      <td>39</td>\n",
       "      <td>1</td>\n",
       "    </tr>\n",
       "    <tr>\n",
       "      <th>1</th>\n",
       "      <td>2</td>\n",
       "      <td>1</td>\n",
       "      <td>21</td>\n",
       "      <td>15</td>\n",
       "      <td>81</td>\n",
       "      <td>1</td>\n",
       "    </tr>\n",
       "    <tr>\n",
       "      <th>2</th>\n",
       "      <td>3</td>\n",
       "      <td>0</td>\n",
       "      <td>20</td>\n",
       "      <td>16</td>\n",
       "      <td>6</td>\n",
       "      <td>3</td>\n",
       "    </tr>\n",
       "    <tr>\n",
       "      <th>3</th>\n",
       "      <td>4</td>\n",
       "      <td>0</td>\n",
       "      <td>23</td>\n",
       "      <td>16</td>\n",
       "      <td>77</td>\n",
       "      <td>0</td>\n",
       "    </tr>\n",
       "    <tr>\n",
       "      <th>4</th>\n",
       "      <td>5</td>\n",
       "      <td>0</td>\n",
       "      <td>31</td>\n",
       "      <td>17</td>\n",
       "      <td>40</td>\n",
       "      <td>0</td>\n",
       "    </tr>\n",
       "  </tbody>\n",
       "</table>\n",
       "</div>"
      ],
      "text/plain": [
       "   CustomerID  Gender  Age  Annual Income (k$)  Spending Score (1-100)  clust\n",
       "0           1       1   19                  15                      39      1\n",
       "1           2       1   21                  15                      81      1\n",
       "2           3       0   20                  16                       6      3\n",
       "3           4       0   23                  16                      77      0\n",
       "4           5       0   31                  17                      40      0"
      ]
     },
     "execution_count": 168,
     "metadata": {},
     "output_type": "execute_result"
    }
   ],
   "source": [
    "df.head()"
   ]
  },
  {
   "cell_type": "code",
   "execution_count": 169,
   "metadata": {
    "colab": {
     "base_uri": "https://localhost:8080/",
     "height": 206
    },
    "id": "4dgYrHA4f2VM",
    "outputId": "e126189a-7ea6-4867-9c70-28ea16381850"
   },
   "outputs": [
    {
     "data": {
      "text/html": [
       "<div>\n",
       "<style scoped>\n",
       "    .dataframe tbody tr th:only-of-type {\n",
       "        vertical-align: middle;\n",
       "    }\n",
       "\n",
       "    .dataframe tbody tr th {\n",
       "        vertical-align: top;\n",
       "    }\n",
       "\n",
       "    .dataframe thead th {\n",
       "        text-align: right;\n",
       "    }\n",
       "</style>\n",
       "<table border=\"1\" class=\"dataframe\">\n",
       "  <thead>\n",
       "    <tr style=\"text-align: right;\">\n",
       "      <th></th>\n",
       "      <th>CustomerID</th>\n",
       "      <th>Gender</th>\n",
       "      <th>Age</th>\n",
       "      <th>Annual Income (k$)</th>\n",
       "      <th>Spending Score (1-100)</th>\n",
       "      <th>clust</th>\n",
       "    </tr>\n",
       "  </thead>\n",
       "  <tbody>\n",
       "    <tr>\n",
       "      <th>195</th>\n",
       "      <td>196</td>\n",
       "      <td>0</td>\n",
       "      <td>35</td>\n",
       "      <td>120</td>\n",
       "      <td>79</td>\n",
       "      <td>0</td>\n",
       "    </tr>\n",
       "    <tr>\n",
       "      <th>196</th>\n",
       "      <td>197</td>\n",
       "      <td>0</td>\n",
       "      <td>45</td>\n",
       "      <td>126</td>\n",
       "      <td>28</td>\n",
       "      <td>3</td>\n",
       "    </tr>\n",
       "    <tr>\n",
       "      <th>197</th>\n",
       "      <td>198</td>\n",
       "      <td>1</td>\n",
       "      <td>32</td>\n",
       "      <td>126</td>\n",
       "      <td>74</td>\n",
       "      <td>1</td>\n",
       "    </tr>\n",
       "    <tr>\n",
       "      <th>198</th>\n",
       "      <td>199</td>\n",
       "      <td>1</td>\n",
       "      <td>32</td>\n",
       "      <td>137</td>\n",
       "      <td>18</td>\n",
       "      <td>2</td>\n",
       "    </tr>\n",
       "    <tr>\n",
       "      <th>199</th>\n",
       "      <td>200</td>\n",
       "      <td>1</td>\n",
       "      <td>30</td>\n",
       "      <td>137</td>\n",
       "      <td>83</td>\n",
       "      <td>1</td>\n",
       "    </tr>\n",
       "  </tbody>\n",
       "</table>\n",
       "</div>"
      ],
      "text/plain": [
       "     CustomerID  Gender  Age  Annual Income (k$)  Spending Score (1-100)  \\\n",
       "195         196       0   35                 120                      79   \n",
       "196         197       0   45                 126                      28   \n",
       "197         198       1   32                 126                      74   \n",
       "198         199       1   32                 137                      18   \n",
       "199         200       1   30                 137                      83   \n",
       "\n",
       "     clust  \n",
       "195      0  \n",
       "196      3  \n",
       "197      1  \n",
       "198      2  \n",
       "199      1  "
      ]
     },
     "execution_count": 169,
     "metadata": {},
     "output_type": "execute_result"
    }
   ],
   "source": [
    "df.tail()"
   ]
  },
  {
   "cell_type": "markdown",
   "metadata": {
    "id": "4h6VS5fWgf1f"
   },
   "source": [
    "### 11. Split the data into dependent and independent variables"
   ]
  },
  {
   "cell_type": "code",
   "execution_count": 98,
   "metadata": {
    "colab": {
     "base_uri": "https://localhost:8080/",
     "height": 206
    },
    "id": "OvmL1W74a_j3",
    "outputId": "22f0ceb1-199f-4b8d-84e9-79f499a8fd3e"
   },
   "outputs": [
    {
     "data": {
      "text/html": [
       "<div>\n",
       "<style scoped>\n",
       "    .dataframe tbody tr th:only-of-type {\n",
       "        vertical-align: middle;\n",
       "    }\n",
       "\n",
       "    .dataframe tbody tr th {\n",
       "        vertical-align: top;\n",
       "    }\n",
       "\n",
       "    .dataframe thead th {\n",
       "        text-align: right;\n",
       "    }\n",
       "</style>\n",
       "<table border=\"1\" class=\"dataframe\">\n",
       "  <thead>\n",
       "    <tr style=\"text-align: right;\">\n",
       "      <th></th>\n",
       "      <th>Gender</th>\n",
       "      <th>Age</th>\n",
       "      <th>Annual Income (k$)</th>\n",
       "      <th>Spending Score (1-100)</th>\n",
       "    </tr>\n",
       "  </thead>\n",
       "  <tbody>\n",
       "    <tr>\n",
       "      <th>0</th>\n",
       "      <td>1</td>\n",
       "      <td>19</td>\n",
       "      <td>15.0</td>\n",
       "      <td>39</td>\n",
       "    </tr>\n",
       "    <tr>\n",
       "      <th>1</th>\n",
       "      <td>1</td>\n",
       "      <td>21</td>\n",
       "      <td>15.0</td>\n",
       "      <td>81</td>\n",
       "    </tr>\n",
       "    <tr>\n",
       "      <th>2</th>\n",
       "      <td>0</td>\n",
       "      <td>20</td>\n",
       "      <td>16.0</td>\n",
       "      <td>6</td>\n",
       "    </tr>\n",
       "    <tr>\n",
       "      <th>3</th>\n",
       "      <td>0</td>\n",
       "      <td>23</td>\n",
       "      <td>16.0</td>\n",
       "      <td>77</td>\n",
       "    </tr>\n",
       "    <tr>\n",
       "      <th>4</th>\n",
       "      <td>0</td>\n",
       "      <td>31</td>\n",
       "      <td>17.0</td>\n",
       "      <td>40</td>\n",
       "    </tr>\n",
       "  </tbody>\n",
       "</table>\n",
       "</div>"
      ],
      "text/plain": [
       "   Gender  Age  Annual Income (k$)  Spending Score (1-100)\n",
       "0       1   19                15.0                      39\n",
       "1       1   21                15.0                      81\n",
       "2       0   20                16.0                       6\n",
       "3       0   23                16.0                      77\n",
       "4       0   31                17.0                      40"
      ]
     },
     "execution_count": 98,
     "metadata": {},
     "output_type": "execute_result"
    }
   ],
   "source": [
    "x=df.drop(columns=['CustomerID', 'clust'],axis=1)\n",
    "x.head()"
   ]
  },
  {
   "cell_type": "code",
   "execution_count": 170,
   "metadata": {
    "colab": {
     "base_uri": "https://localhost:8080/"
    },
    "id": "PSfeZlLNa8cV",
    "outputId": "351c83ac-0b0f-4479-82c8-9533790098cb"
   },
   "outputs": [
    {
     "data": {
      "text/plain": [
       "0      1\n",
       "1      1\n",
       "2      3\n",
       "3      0\n",
       "4      0\n",
       "      ..\n",
       "195    0\n",
       "196    3\n",
       "197    1\n",
       "198    2\n",
       "199    1\n",
       "Name: clust, Length: 200, dtype: int32"
      ]
     },
     "execution_count": 170,
     "metadata": {},
     "output_type": "execute_result"
    }
   ],
   "source": [
    "y=df['clust']\n",
    "y"
   ]
  },
  {
   "cell_type": "markdown",
   "metadata": {
    "id": "aZLgR0W-hhIc"
   },
   "source": [
    "### 12. Split the data into training and testing"
   ]
  },
  {
   "cell_type": "code",
   "execution_count": 171,
   "metadata": {
    "id": "B1kzDInmhgta"
   },
   "outputs": [],
   "source": [
    "x_train,x_test,y_train,y_test=train_test_split(x,y,test_size=0.2)"
   ]
  },
  {
   "cell_type": "markdown",
   "metadata": {
    "id": "oStf0lv2iRso"
   },
   "source": [
    "### 13. Build the Model"
   ]
  },
  {
   "cell_type": "code",
   "execution_count": 172,
   "metadata": {
    "id": "WM_ckqnuihvA"
   },
   "outputs": [],
   "source": [
    "rf=RandomForestClassifier()"
   ]
  },
  {
   "cell_type": "markdown",
   "metadata": {
    "id": "qRCl0cCGinS8"
   },
   "source": [
    "### 14. Train the Model"
   ]
  },
  {
   "cell_type": "code",
   "execution_count": 173,
   "metadata": {
    "colab": {
     "base_uri": "https://localhost:8080/"
    },
    "id": "hsf5Chmpimxq",
    "outputId": "c25d4c93-5877-409d-a2e7-9e79e03cf979"
   },
   "outputs": [
    {
     "data": {
      "text/plain": [
       "RandomForestClassifier()"
      ]
     },
     "execution_count": 173,
     "metadata": {},
     "output_type": "execute_result"
    }
   ],
   "source": [
    "rf.fit(x_train,y_train)"
   ]
  },
  {
   "cell_type": "markdown",
   "metadata": {
    "id": "U9NhKs3uiwn2"
   },
   "source": [
    "### 15. Test the Model"
   ]
  },
  {
   "cell_type": "code",
   "execution_count": 174,
   "metadata": {
    "id": "cXYL07N7i0Zj"
   },
   "outputs": [],
   "source": [
    "pred=rf.predict(x_test)"
   ]
  },
  {
   "cell_type": "markdown",
   "metadata": {
    "id": "EFwlgrkOi7qS"
   },
   "source": [
    "### 16. Measure the performance using Evaluation Metrics"
   ]
  },
  {
   "cell_type": "code",
   "execution_count": 175,
   "metadata": {
    "colab": {
     "base_uri": "https://localhost:8080/"
    },
    "id": "Gt87kpxni-8u",
    "outputId": "42bf35e8-d70c-4797-9b87-b5b9c4ea6b08"
   },
   "outputs": [
    {
     "data": {
      "text/plain": [
       "1.0"
      ]
     },
     "execution_count": 175,
     "metadata": {},
     "output_type": "execute_result"
    }
   ],
   "source": [
    "accuracy_score(y_test,pred)"
   ]
  },
  {
   "cell_type": "code",
   "execution_count": 176,
   "metadata": {
    "colab": {
     "base_uri": "https://localhost:8080/"
    },
    "id": "RMPez0-FjRiE",
    "outputId": "3129b1eb-e59d-497d-f0b6-1f44eceae5e7"
   },
   "outputs": [
    {
     "data": {
      "text/plain": [
       "array([[ 9,  0,  0,  0],\n",
       "       [ 0, 14,  0,  0],\n",
       "       [ 0,  0,  5,  0],\n",
       "       [ 0,  0,  0, 12]], dtype=int64)"
      ]
     },
     "execution_count": 176,
     "metadata": {},
     "output_type": "execute_result"
    }
   ],
   "source": [
    "metrics.confusion_matrix(y_test,pred)"
   ]
  },
  {
   "cell_type": "code",
   "execution_count": null,
   "metadata": {},
   "outputs": [],
   "source": []
  }
 ],
 "metadata": {
  "colab": {
   "provenance": []
  },
  "kernelspec": {
   "display_name": "Python 3 (ipykernel)",
   "language": "python",
   "name": "python3"
  },
  "language_info": {
   "codemirror_mode": {
    "name": "ipython",
    "version": 3
   },
   "file_extension": ".py",
   "mimetype": "text/x-python",
   "name": "python",
   "nbconvert_exporter": "python",
   "pygments_lexer": "ipython3",
   "version": "3.9.12"
  }
 },
 "nbformat": 4,
 "nbformat_minor": 1
}
