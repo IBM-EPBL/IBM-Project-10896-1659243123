{
 "cells": [
  {
   "cell_type": "markdown",
   "metadata": {
    "id": "YMXhGZtsWNRb"
   },
   "source": [
    "**Assignment 4**"
   ]
  },
  {
   "cell_type": "markdown",
   "metadata": {
    "id": "gsRGbEVEW3kj"
   },
   "source": [
    "**1. Download the dataset**"
   ]
  },
  {
   "cell_type": "code",
   "execution_count": 1,
   "metadata": {
    "id": "Y1mItIRKVs7L"
   },
   "outputs": [],
   "source": [
    "import pandas as pd\n",
    "import numpy as np\n",
    "import matplotlib.pyplot as plt\n",
    "import seaborn as sns"
   ]
  },
  {
   "cell_type": "markdown",
   "metadata": {
    "id": "JLf2JbQ0WtEL"
   },
   "source": [
    "**2.Loading data set**"
   ]
  },
  {
   "cell_type": "code",
   "execution_count": 2,
   "metadata": {
    "id": "2f9jAtehWLyz"
   },
   "outputs": [],
   "source": [
    "df = pd.read_csv(\"Mall_Customers.csv\")\n"
   ]
  },
  {
   "cell_type": "code",
   "execution_count": 3,
   "metadata": {
    "colab": {
     "base_uri": "https://localhost:8080/",
     "height": 206
    },
    "id": "he61B0bmWL17",
    "outputId": "29b458a2-c928-41db-8db6-d46468fcede3"
   },
   "outputs": [
    {
     "data": {
      "text/html": [
       "<div>\n",
       "<style scoped>\n",
       "    .dataframe tbody tr th:only-of-type {\n",
       "        vertical-align: middle;\n",
       "    }\n",
       "\n",
       "    .dataframe tbody tr th {\n",
       "        vertical-align: top;\n",
       "    }\n",
       "\n",
       "    .dataframe thead th {\n",
       "        text-align: right;\n",
       "    }\n",
       "</style>\n",
       "<table border=\"1\" class=\"dataframe\">\n",
       "  <thead>\n",
       "    <tr style=\"text-align: right;\">\n",
       "      <th></th>\n",
       "      <th>CustomerID</th>\n",
       "      <th>Gender</th>\n",
       "      <th>Age</th>\n",
       "      <th>Annual Income (k$)</th>\n",
       "      <th>Spending Score (1-100)</th>\n",
       "    </tr>\n",
       "  </thead>\n",
       "  <tbody>\n",
       "    <tr>\n",
       "      <th>0</th>\n",
       "      <td>1</td>\n",
       "      <td>Male</td>\n",
       "      <td>19</td>\n",
       "      <td>15</td>\n",
       "      <td>39</td>\n",
       "    </tr>\n",
       "    <tr>\n",
       "      <th>1</th>\n",
       "      <td>2</td>\n",
       "      <td>Male</td>\n",
       "      <td>21</td>\n",
       "      <td>15</td>\n",
       "      <td>81</td>\n",
       "    </tr>\n",
       "    <tr>\n",
       "      <th>2</th>\n",
       "      <td>3</td>\n",
       "      <td>Female</td>\n",
       "      <td>20</td>\n",
       "      <td>16</td>\n",
       "      <td>6</td>\n",
       "    </tr>\n",
       "    <tr>\n",
       "      <th>3</th>\n",
       "      <td>4</td>\n",
       "      <td>Female</td>\n",
       "      <td>23</td>\n",
       "      <td>16</td>\n",
       "      <td>77</td>\n",
       "    </tr>\n",
       "    <tr>\n",
       "      <th>4</th>\n",
       "      <td>5</td>\n",
       "      <td>Female</td>\n",
       "      <td>31</td>\n",
       "      <td>17</td>\n",
       "      <td>40</td>\n",
       "    </tr>\n",
       "  </tbody>\n",
       "</table>\n",
       "</div>"
      ],
      "text/plain": [
       "   CustomerID  Gender  Age  Annual Income (k$)  Spending Score (1-100)\n",
       "0           1    Male   19                  15                      39\n",
       "1           2    Male   21                  15                      81\n",
       "2           3  Female   20                  16                       6\n",
       "3           4  Female   23                  16                      77\n",
       "4           5  Female   31                  17                      40"
      ]
     },
     "execution_count": 3,
     "metadata": {},
     "output_type": "execute_result"
    }
   ],
   "source": [
    "df.head()"
   ]
  },
  {
   "cell_type": "markdown",
   "metadata": {
    "id": "c0GHgp5FXCCb"
   },
   "source": [
    "**3. Perform visualization**"
   ]
  },
  {
   "cell_type": "markdown",
   "metadata": {
    "id": "SQZKDPheXJcK"
   },
   "source": [
    "Univariate analysis\n"
   ]
  },
  {
   "cell_type": "code",
   "execution_count": 4,
   "metadata": {
    "colab": {
     "base_uri": "https://localhost:8080/",
     "height": 317
    },
    "id": "wIIRfF7CWL4r",
    "outputId": "ab82b14d-9ee9-406c-c684-aaf8d02ae4f8"
   },
   "outputs": [
    {
     "data": {
      "text/plain": [
       "(array([31., 19., 34., 29., 16., 26., 15., 10.,  6., 14.]),\n",
       " array([18. , 23.2, 28.4, 33.6, 38.8, 44. , 49.2, 54.4, 59.6, 64.8, 70. ]),\n",
       " <BarContainer object of 10 artists>)"
      ]
     },
     "execution_count": 4,
     "metadata": {},
     "output_type": "execute_result"
    },
    {
     "data": {
      "image/png": "[encoded data removed]",
      "text/plain": [
       "<Figure size 432x288 with 1 Axes>"
      ]
     },
     "metadata": {
      "needs_background": "light"
     },
     "output_type": "display_data"
    }
   ],
   "source": [
    "plt.hist(df['Age'])\n"
   ]
  },
  {
   "cell_type": "markdown",
   "metadata": {
    "id": "70BTbYenXauP"
   },
   "source": [
    "Bivariate analysis\n"
   ]
  },
  {
   "cell_type": "code",
   "execution_count": 5,
   "metadata": {
    "colab": {
     "base_uri": "https://localhost:8080/",
     "height": 296
    },
    "id": "5MSzcw2JWL7a",
    "outputId": "44a6023b-f440-4868-bde6-871b2ff8b67f"
   },
   "outputs": [
    {
     "data": {
      "text/plain": [
       "<AxesSubplot:xlabel='Gender', ylabel='Age'>"
      ]
     },
     "execution_count": 5,
     "metadata": {},
     "output_type": "execute_result"
    },
    {
     "data": {
      "image/png": "[encoded data removed]",
      "text/plain": [
       "<Figure size 432x288 with 1 Axes>"
      ]
     },
     "metadata": {
      "needs_background": "light"
     },
     "output_type": "display_data"
    }
   ],
   "source": [
    "sns.boxplot(x='Gender',y='Age',data=df,palette='rainbow')"
   ]
  },
  {
   "cell_type": "markdown",
   "metadata": {
    "id": "yu4900VMXnEQ"
   },
   "source": [
    "Multivariate analysis"
   ]
  },
  {
   "cell_type": "code",
   "execution_count": 6,
   "metadata": {
    "colab": {
     "base_uri": "https://localhost:8080/",
     "height": 743
    },
    "id": "_s1l-eBjWL-C",
    "outputId": "7bbc6098-7239-4350-ba94-3a099fd792a6"
   },
   "outputs": [
    {
     "data": {
      "text/plain": [
       "<AxesSubplot:>"
      ]
     },
     "execution_count": 6,
     "metadata": {},
     "output_type": "execute_result"
    },
    {
     "data": {
      "image/png": "[encoded data removed]",
      "text/plain": [
       "<Figure size 432x288 with 2 Axes>"
      ]
     },
     "metadata": {
      "needs_background": "light"
     },
     "output_type": "display_data"
    }
   ],
   "source": [
    "sns.heatmap(df.corr(),annot=True)"
   ]
  },
  {
   "cell_type": "markdown",
   "metadata": {
    "id": "WsLEoqtjYCmj"
   },
   "source": [
    "**4. Perform descriptive statistics on the dataset.**"
   ]
  },
  {
   "cell_type": "code",
   "execution_count": 7,
   "metadata": {
    "colab": {
     "base_uri": "https://localhost:8080/",
     "height": 175
    },
    "id": "oe0oEx8hWMAk",
    "outputId": "07da91c2-3f69-44cb-b149-07944c28dc4c"
   },
   "outputs": [
    {
     "data": {
      "text/html": [
       "<div>\n",
       "<style scoped>\n",
       "    .dataframe tbody tr th:only-of-type {\n",
       "        vertical-align: middle;\n",
       "    }\n",
       "\n",
       "    .dataframe tbody tr th {\n",
       "        vertical-align: top;\n",
       "    }\n",
       "\n",
       "    .dataframe thead th {\n",
       "        text-align: right;\n",
       "    }\n",
       "</style>\n",
       "<table border=\"1\" class=\"dataframe\">\n",
       "  <thead>\n",
       "    <tr style=\"text-align: right;\">\n",
       "      <th></th>\n",
       "      <th>count</th>\n",
       "      <th>mean</th>\n",
       "      <th>std</th>\n",
       "      <th>min</th>\n",
       "      <th>25%</th>\n",
       "      <th>50%</th>\n",
       "      <th>75%</th>\n",
       "      <th>max</th>\n",
       "    </tr>\n",
       "  </thead>\n",
       "  <tbody>\n",
       "    <tr>\n",
       "      <th>CustomerID</th>\n",
       "      <td>200.0</td>\n",
       "      <td>100.50</td>\n",
       "      <td>57.879185</td>\n",
       "      <td>1.0</td>\n",
       "      <td>50.75</td>\n",
       "      <td>100.5</td>\n",
       "      <td>150.25</td>\n",
       "      <td>200.0</td>\n",
       "    </tr>\n",
       "    <tr>\n",
       "      <th>Age</th>\n",
       "      <td>200.0</td>\n",
       "      <td>38.85</td>\n",
       "      <td>13.969007</td>\n",
       "      <td>18.0</td>\n",
       "      <td>28.75</td>\n",
       "      <td>36.0</td>\n",
       "      <td>49.00</td>\n",
       "      <td>70.0</td>\n",
       "    </tr>\n",
       "    <tr>\n",
       "      <th>Annual Income (k$)</th>\n",
       "      <td>200.0</td>\n",
       "      <td>60.56</td>\n",
       "      <td>26.264721</td>\n",
       "      <td>15.0</td>\n",
       "      <td>41.50</td>\n",
       "      <td>61.5</td>\n",
       "      <td>78.00</td>\n",
       "      <td>137.0</td>\n",
       "    </tr>\n",
       "    <tr>\n",
       "      <th>Spending Score (1-100)</th>\n",
       "      <td>200.0</td>\n",
       "      <td>50.20</td>\n",
       "      <td>25.823522</td>\n",
       "      <td>1.0</td>\n",
       "      <td>34.75</td>\n",
       "      <td>50.0</td>\n",
       "      <td>73.00</td>\n",
       "      <td>99.0</td>\n",
       "    </tr>\n",
       "  </tbody>\n",
       "</table>\n",
       "</div>"
      ],
      "text/plain": [
       "                        count    mean        std   min    25%    50%     75%  \\\n",
       "CustomerID              200.0  100.50  57.879185   1.0  50.75  100.5  150.25   \n",
       "Age                     200.0   38.85  13.969007  18.0  28.75   36.0   49.00   \n",
       "Annual Income (k$)      200.0   60.56  26.264721  15.0  41.50   61.5   78.00   \n",
       "Spending Score (1-100)  200.0   50.20  25.823522   1.0  34.75   50.0   73.00   \n",
       "\n",
       "                          max  \n",
       "CustomerID              200.0  \n",
       "Age                      70.0  \n",
       "Annual Income (k$)      137.0  \n",
       "Spending Score (1-100)   99.0  "
      ]
     },
     "execution_count": 7,
     "metadata": {},
     "output_type": "execute_result"
    }
   ],
   "source": [
    "df.describe().T"
   ]
  },
  {
   "cell_type": "markdown",
   "metadata": {
    "id": "MQKPukCOYIFm"
   },
   "source": [
    "**5. Check for Missing values and deal with them.**"
   ]
  },
  {
   "cell_type": "code",
   "execution_count": 8,
   "metadata": {
    "colab": {
     "base_uri": "https://localhost:8080/",
     "height": 424
    },
    "id": "ntELJy1HWMDd",
    "outputId": "7ec05d5c-03f6-4b90-a6c6-2fc2affd3b98"
   },
   "outputs": [
    {
     "data": {
      "text/html": [
       "<div>\n",
       "<style scoped>\n",
       "    .dataframe tbody tr th:only-of-type {\n",
       "        vertical-align: middle;\n",
       "    }\n",
       "\n",
       "    .dataframe tbody tr th {\n",
       "        vertical-align: top;\n",
       "    }\n",
       "\n",
       "    .dataframe thead th {\n",
       "        text-align: right;\n",
       "    }\n",
       "</style>\n",
       "<table border=\"1\" class=\"dataframe\">\n",
       "  <thead>\n",
       "    <tr style=\"text-align: right;\">\n",
       "      <th></th>\n",
       "      <th>CustomerID</th>\n",
       "      <th>Gender</th>\n",
       "      <th>Age</th>\n",
       "      <th>Annual Income (k$)</th>\n",
       "      <th>Spending Score (1-100)</th>\n",
       "    </tr>\n",
       "  </thead>\n",
       "  <tbody>\n",
       "    <tr>\n",
       "      <th>0</th>\n",
       "      <td>False</td>\n",
       "      <td>False</td>\n",
       "      <td>False</td>\n",
       "      <td>False</td>\n",
       "      <td>False</td>\n",
       "    </tr>\n",
       "    <tr>\n",
       "      <th>1</th>\n",
       "      <td>False</td>\n",
       "      <td>False</td>\n",
       "      <td>False</td>\n",
       "      <td>False</td>\n",
       "      <td>False</td>\n",
       "    </tr>\n",
       "    <tr>\n",
       "      <th>2</th>\n",
       "      <td>False</td>\n",
       "      <td>False</td>\n",
       "      <td>False</td>\n",
       "      <td>False</td>\n",
       "      <td>False</td>\n",
       "    </tr>\n",
       "    <tr>\n",
       "      <th>3</th>\n",
       "      <td>False</td>\n",
       "      <td>False</td>\n",
       "      <td>False</td>\n",
       "      <td>False</td>\n",
       "      <td>False</td>\n",
       "    </tr>\n",
       "    <tr>\n",
       "      <th>4</th>\n",
       "      <td>False</td>\n",
       "      <td>False</td>\n",
       "      <td>False</td>\n",
       "      <td>False</td>\n",
       "      <td>False</td>\n",
       "    </tr>\n",
       "    <tr>\n",
       "      <th>...</th>\n",
       "      <td>...</td>\n",
       "      <td>...</td>\n",
       "      <td>...</td>\n",
       "      <td>...</td>\n",
       "      <td>...</td>\n",
       "    </tr>\n",
       "    <tr>\n",
       "      <th>195</th>\n",
       "      <td>False</td>\n",
       "      <td>False</td>\n",
       "      <td>False</td>\n",
       "      <td>False</td>\n",
       "      <td>False</td>\n",
       "    </tr>\n",
       "    <tr>\n",
       "      <th>196</th>\n",
       "      <td>False</td>\n",
       "      <td>False</td>\n",
       "      <td>False</td>\n",
       "      <td>False</td>\n",
       "      <td>False</td>\n",
       "    </tr>\n",
       "    <tr>\n",
       "      <th>197</th>\n",
       "      <td>False</td>\n",
       "      <td>False</td>\n",
       "      <td>False</td>\n",
       "      <td>False</td>\n",
       "      <td>False</td>\n",
       "    </tr>\n",
       "    <tr>\n",
       "      <th>198</th>\n",
       "      <td>False</td>\n",
       "      <td>False</td>\n",
       "      <td>False</td>\n",
       "      <td>False</td>\n",
       "      <td>False</td>\n",
       "    </tr>\n",
       "    <tr>\n",
       "      <th>199</th>\n",
       "      <td>False</td>\n",
       "      <td>False</td>\n",
       "      <td>False</td>\n",
       "      <td>False</td>\n",
       "      <td>False</td>\n",
       "    </tr>\n",
       "  </tbody>\n",
       "</table>\n",
       "<p>200 rows × 5 columns</p>\n",
       "</div>"
      ],
      "text/plain": [
       "     CustomerID  Gender    Age  Annual Income (k$)  Spending Score (1-100)\n",
       "0         False   False  False               False                   False\n",
       "1         False   False  False               False                   False\n",
       "2         False   False  False               False                   False\n",
       "3         False   False  False               False                   False\n",
       "4         False   False  False               False                   False\n",
       "..          ...     ...    ...                 ...                     ...\n",
       "195       False   False  False               False                   False\n",
       "196       False   False  False               False                   False\n",
       "197       False   False  False               False                   False\n",
       "198       False   False  False               False                   False\n",
       "199       False   False  False               False                   False\n",
       "\n",
       "[200 rows x 5 columns]"
      ]
     },
     "execution_count": 8,
     "metadata": {},
     "output_type": "execute_result"
    }
   ],
   "source": [
    "df.isna()"
   ]
  },
  {
   "cell_type": "code",
   "execution_count": 9,
   "metadata": {
    "colab": {
     "base_uri": "https://localhost:8080/"
    },
    "id": "HhoYrwiUYQn_",
    "outputId": "ff820470-e76d-4c03-e865-c53ca1518c63"
   },
   "outputs": [
    {
     "data": {
      "text/plain": [
       "CustomerID                0\n",
       "Gender                    0\n",
       "Age                       0\n",
       "Annual Income (k$)        0\n",
       "Spending Score (1-100)    0\n",
       "dtype: int64"
      ]
     },
     "execution_count": 9,
     "metadata": {},
     "output_type": "execute_result"
    }
   ],
   "source": [
    "df.isna().sum()"
   ]
  },
  {
   "cell_type": "markdown",
   "metadata": {
    "id": "EYcM6VnGYUJJ"
   },
   "source": [
    "**6. Find the outliers and replace them outliers**"
   ]
  },
  {
   "cell_type": "code",
   "execution_count": 10,
   "metadata": {
    "id": "023PIqMaYV-Y"
   },
   "outputs": [],
   "source": [
    "df['Gender'].replace({'Male':1,'Female':0},inplace=True)"
   ]
  },
  {
   "cell_type": "code",
   "execution_count": 11,
   "metadata": {
    "colab": {
     "base_uri": "https://localhost:8080/",
     "height": 424
    },
    "id": "kPtU8YCOYWGf",
    "outputId": "1d27f94e-4573-4a67-a50d-d1babd509bc2"
   },
   "outputs": [
    {
     "data": {
      "text/html": [
       "<div>\n",
       "<style scoped>\n",
       "    .dataframe tbody tr th:only-of-type {\n",
       "        vertical-align: middle;\n",
       "    }\n",
       "\n",
       "    .dataframe tbody tr th {\n",
       "        vertical-align: top;\n",
       "    }\n",
       "\n",
       "    .dataframe thead th {\n",
       "        text-align: right;\n",
       "    }\n",
       "</style>\n",
       "<table border=\"1\" class=\"dataframe\">\n",
       "  <thead>\n",
       "    <tr style=\"text-align: right;\">\n",
       "      <th></th>\n",
       "      <th>CustomerID</th>\n",
       "      <th>Gender</th>\n",
       "      <th>Age</th>\n",
       "      <th>Annual Income (k$)</th>\n",
       "      <th>Spending Score (1-100)</th>\n",
       "    </tr>\n",
       "  </thead>\n",
       "  <tbody>\n",
       "    <tr>\n",
       "      <th>0</th>\n",
       "      <td>1</td>\n",
       "      <td>1</td>\n",
       "      <td>19</td>\n",
       "      <td>15</td>\n",
       "      <td>39</td>\n",
       "    </tr>\n",
       "    <tr>\n",
       "      <th>1</th>\n",
       "      <td>2</td>\n",
       "      <td>1</td>\n",
       "      <td>21</td>\n",
       "      <td>15</td>\n",
       "      <td>81</td>\n",
       "    </tr>\n",
       "    <tr>\n",
       "      <th>2</th>\n",
       "      <td>3</td>\n",
       "      <td>0</td>\n",
       "      <td>20</td>\n",
       "      <td>16</td>\n",
       "      <td>6</td>\n",
       "    </tr>\n",
       "    <tr>\n",
       "      <th>3</th>\n",
       "      <td>4</td>\n",
       "      <td>0</td>\n",
       "      <td>23</td>\n",
       "      <td>16</td>\n",
       "      <td>77</td>\n",
       "    </tr>\n",
       "    <tr>\n",
       "      <th>4</th>\n",
       "      <td>5</td>\n",
       "      <td>0</td>\n",
       "      <td>31</td>\n",
       "      <td>17</td>\n",
       "      <td>40</td>\n",
       "    </tr>\n",
       "    <tr>\n",
       "      <th>...</th>\n",
       "      <td>...</td>\n",
       "      <td>...</td>\n",
       "      <td>...</td>\n",
       "      <td>...</td>\n",
       "      <td>...</td>\n",
       "    </tr>\n",
       "    <tr>\n",
       "      <th>195</th>\n",
       "      <td>196</td>\n",
       "      <td>0</td>\n",
       "      <td>35</td>\n",
       "      <td>120</td>\n",
       "      <td>79</td>\n",
       "    </tr>\n",
       "    <tr>\n",
       "      <th>196</th>\n",
       "      <td>197</td>\n",
       "      <td>0</td>\n",
       "      <td>45</td>\n",
       "      <td>126</td>\n",
       "      <td>28</td>\n",
       "    </tr>\n",
       "    <tr>\n",
       "      <th>197</th>\n",
       "      <td>198</td>\n",
       "      <td>1</td>\n",
       "      <td>32</td>\n",
       "      <td>126</td>\n",
       "      <td>74</td>\n",
       "    </tr>\n",
       "    <tr>\n",
       "      <th>198</th>\n",
       "      <td>199</td>\n",
       "      <td>1</td>\n",
       "      <td>32</td>\n",
       "      <td>137</td>\n",
       "      <td>18</td>\n",
       "    </tr>\n",
       "    <tr>\n",
       "      <th>199</th>\n",
       "      <td>200</td>\n",
       "      <td>1</td>\n",
       "      <td>30</td>\n",
       "      <td>137</td>\n",
       "      <td>83</td>\n",
       "    </tr>\n",
       "  </tbody>\n",
       "</table>\n",
       "<p>200 rows × 5 columns</p>\n",
       "</div>"
      ],
      "text/plain": [
       "     CustomerID  Gender  Age  Annual Income (k$)  Spending Score (1-100)\n",
       "0             1       1   19                  15                      39\n",
       "1             2       1   21                  15                      81\n",
       "2             3       0   20                  16                       6\n",
       "3             4       0   23                  16                      77\n",
       "4             5       0   31                  17                      40\n",
       "..          ...     ...  ...                 ...                     ...\n",
       "195         196       0   35                 120                      79\n",
       "196         197       0   45                 126                      28\n",
       "197         198       1   32                 126                      74\n",
       "198         199       1   32                 137                      18\n",
       "199         200       1   30                 137                      83\n",
       "\n",
       "[200 rows x 5 columns]"
      ]
     },
     "execution_count": 11,
     "metadata": {},
     "output_type": "execute_result"
    }
   ],
   "source": [
    "df"
   ]
  },
  {
   "cell_type": "code",
   "execution_count": 12,
   "metadata": {
    "colab": {
     "base_uri": "https://localhost:8080/",
     "height": 231
    },
    "id": "fP0qBpMmYWI_",
    "outputId": "0082689d-ae13-41fc-bc6a-971f32870bce"
   },
   "outputs": [
    {
     "data": {
      "text/plain": [
       "<AxesSubplot:xlabel='Spending Score (1-100)'>"
      ]
     },
     "execution_count": 12,
     "metadata": {},
     "output_type": "execute_result"
    },
    {
     "data": {
      "image/png": "[encoded data removed]",
      "text/plain": [
       "<Figure size 1800x360 with 5 Axes>"
      ]
     },
     "metadata": {
      "needs_background": "light"
     },
     "output_type": "display_data"
    }
   ],
   "source": [
    "fig,ax=plt.subplots(figsize=(25,5))\n",
    "\n",
    "\n",
    "\n",
    "plt.subplot(1, 5, 4)\n",
    "sns.boxplot(x=df['CustomerID'])\n",
    "\n",
    "plt.subplot(1, 5, 1)\n",
    "sns.boxplot(x=df['Gender'])\n",
    "\n",
    "plt.subplot(1, 5, 5)\n",
    "sns.boxplot(x=df['Age'])\n",
    "\n",
    "plt.subplot(1, 5, 2)\n",
    "sns.boxplot(x=df['Annual Income (k$)'])\n",
    "\n",
    "plt.subplot(1, 5, 3)\n",
    "sns.boxplot(x=df['Spending Score (1-100)'])"
   ]
  },
  {
   "cell_type": "code",
   "execution_count": 13,
   "metadata": {
    "colab": {
     "base_uri": "https://localhost:8080/",
     "height": 112
    },
    "id": "f_4I9p3zYWMI",
    "outputId": "21d0bbd7-cb8f-4c6f-dc11-8d4cf00bd264"
   },
   "outputs": [
    {
     "data": {
      "text/html": [
       "<div>\n",
       "<style scoped>\n",
       "    .dataframe tbody tr th:only-of-type {\n",
       "        vertical-align: middle;\n",
       "    }\n",
       "\n",
       "    .dataframe tbody tr th {\n",
       "        vertical-align: top;\n",
       "    }\n",
       "\n",
       "    .dataframe thead th {\n",
       "        text-align: right;\n",
       "    }\n",
       "</style>\n",
       "<table border=\"1\" class=\"dataframe\">\n",
       "  <thead>\n",
       "    <tr style=\"text-align: right;\">\n",
       "      <th></th>\n",
       "      <th>CustomerID</th>\n",
       "      <th>Gender</th>\n",
       "      <th>Age</th>\n",
       "      <th>Annual Income (k$)</th>\n",
       "      <th>Spending Score (1-100)</th>\n",
       "    </tr>\n",
       "  </thead>\n",
       "  <tbody>\n",
       "    <tr>\n",
       "      <th>0.25</th>\n",
       "      <td>50.75</td>\n",
       "      <td>0.0</td>\n",
       "      <td>28.75</td>\n",
       "      <td>41.5</td>\n",
       "      <td>34.75</td>\n",
       "    </tr>\n",
       "    <tr>\n",
       "      <th>0.75</th>\n",
       "      <td>150.25</td>\n",
       "      <td>1.0</td>\n",
       "      <td>49.00</td>\n",
       "      <td>78.0</td>\n",
       "      <td>73.00</td>\n",
       "    </tr>\n",
       "  </tbody>\n",
       "</table>\n",
       "</div>"
      ],
      "text/plain": [
       "      CustomerID  Gender    Age  Annual Income (k$)  Spending Score (1-100)\n",
       "0.25       50.75     0.0  28.75                41.5                   34.75\n",
       "0.75      150.25     1.0  49.00                78.0                   73.00"
      ]
     },
     "execution_count": 13,
     "metadata": {},
     "output_type": "execute_result"
    }
   ],
   "source": [
    "#handle the outlier\n",
    "q=df.quantile(q=[0.25,0.75])\n",
    "\n",
    "q\n"
   ]
  },
  {
   "cell_type": "code",
   "execution_count": 14,
   "metadata": {
    "colab": {
     "base_uri": "https://localhost:8080/"
    },
    "id": "FvbO0i4mZvWT",
    "outputId": "eccfbff5-dd5a-4840-fe66-ac62c9b3d842"
   },
   "outputs": [
    {
     "data": {
      "text/plain": [
       "CustomerID                99.50\n",
       "Gender                     1.00\n",
       "Age                       20.25\n",
       "Annual Income (k$)        36.50\n",
       "Spending Score (1-100)    38.25\n",
       "dtype: float64"
      ]
     },
     "execution_count": 14,
     "metadata": {},
     "output_type": "execute_result"
    }
   ],
   "source": [
    "iqr=q.loc[0.75]-q.loc[0.25] \n",
    "iqr"
   ]
  },
  {
   "cell_type": "code",
   "execution_count": 15,
   "metadata": {
    "colab": {
     "base_uri": "https://localhost:8080/"
    },
    "id": "VbfIGwKHZvY1",
    "outputId": "4551da00-fd21-485f-962b-3a343a07469e"
   },
   "outputs": [
    {
     "data": {
      "text/plain": [
       "CustomerID               -98.500\n",
       "Gender                    -1.500\n",
       "Age                       -1.625\n",
       "Annual Income (k$)       -13.250\n",
       "Spending Score (1-100)   -22.625\n",
       "dtype: float64"
      ]
     },
     "execution_count": 15,
     "metadata": {},
     "output_type": "execute_result"
    }
   ],
   "source": [
    "l=q.loc[0.25]-(1.5*iqr)\n",
    "l"
   ]
  },
  {
   "cell_type": "code",
   "execution_count": 16,
   "metadata": {
    "colab": {
     "base_uri": "https://localhost:8080/"
    },
    "id": "FiZhI9cBaABO",
    "outputId": "ddfbff97-036a-4cc8-db08-49daf77e3466"
   },
   "outputs": [
    {
     "data": {
      "text/plain": [
       "CustomerID                299.500\n",
       "Gender                      2.500\n",
       "Age                        79.375\n",
       "Annual Income (k$)        132.750\n",
       "Spending Score (1-100)    130.375\n",
       "dtype: float64"
      ]
     },
     "execution_count": 16,
     "metadata": {},
     "output_type": "execute_result"
    }
   ],
   "source": [
    "u=q.loc[0.75]+(1.5*iqr)\n",
    "u"
   ]
  },
  {
   "cell_type": "code",
   "execution_count": 17,
   "metadata": {
    "colab": {
     "base_uri": "https://localhost:8080/"
    },
    "id": "Ru4l4nk-aDig",
    "outputId": "3bf1f3ca-86fb-404d-b097-bd0f6e6a26a2"
   },
   "outputs": [
    {
     "data": {
      "text/plain": [
       "CustomerID                100.50\n",
       "Gender                      0.44\n",
       "Age                        38.85\n",
       "Annual Income (k$)         60.56\n",
       "Spending Score (1-100)     50.20\n",
       "dtype: float64"
      ]
     },
     "execution_count": 17,
     "metadata": {},
     "output_type": "execute_result"
    }
   ],
   "source": [
    "df.mean()"
   ]
  },
  {
   "cell_type": "code",
   "execution_count": 18,
   "metadata": {
    "colab": {
     "base_uri": "https://localhost:8080/",
     "height": 296
    },
    "id": "3wY2n2NOaO9a",
    "outputId": "8ab9a721-eb51-469a-d358-8734f4502197"
   },
   "outputs": [
    {
     "data": {
      "text/plain": [
       "<AxesSubplot:xlabel='Annual Income (k$)'>"
      ]
     },
     "execution_count": 18,
     "metadata": {},
     "output_type": "execute_result"
    },
    {
     "data": {
      "image/png": "[encoded data removed]",
      "text/plain": [
       "<Figure size 432x288 with 1 Axes>"
      ]
     },
     "metadata": {
      "needs_background": "light"
     },
     "output_type": "display_data"
    }
   ],
   "source": [
    "df['Annual Income (k$)']=np.where(df['Annual Income (k$)']>132.750,-13.250,df['Annual Income (k$)'])\n",
    "#df['Annual Income (k$)']=np.where(df['Annual Income (k$)']<3.5,9.933684,df['Annual Income (k$)'])\n",
    "sns.boxplot(x=df['Annual Income (k$)'])"
   ]
  },
  {
   "cell_type": "code",
   "execution_count": 19,
   "metadata": {
    "colab": {
     "base_uri": "https://localhost:8080/"
    },
    "id": "T2dfEglSa8FH",
    "outputId": "dce20365-2a4a-4f76-fea5-6454b1070eeb"
   },
   "outputs": [
    {
     "name": "stdout",
     "output_type": "stream",
     "text": [
      "<class 'pandas.core.frame.DataFrame'>\n",
      "RangeIndex: 200 entries, 0 to 199\n",
      "Data columns (total 5 columns):\n",
      " #   Column                  Non-Null Count  Dtype  \n",
      "---  ------                  --------------  -----  \n",
      " 0   CustomerID              200 non-null    int64  \n",
      " 1   Gender                  200 non-null    int64  \n",
      " 2   Age                     200 non-null    int64  \n",
      " 3   Annual Income (k$)      200 non-null    float64\n",
      " 4   Spending Score (1-100)  200 non-null    int64  \n",
      "dtypes: float64(1), int64(4)\n",
      "memory usage: 7.9 KB\n"
     ]
    }
   ],
   "source": [
    "df.info()"
   ]
  },
  {
   "cell_type": "markdown",
   "metadata": {
    "id": "IckkJeEKay-E"
   },
   "source": [
    "**7. Check for Categorical columns and perform encoding.**"
   ]
  },
  {
   "cell_type": "code",
   "execution_count": 20,
   "metadata": {
    "colab": {
     "base_uri": "https://localhost:8080/"
    },
    "id": "-MwsqXDda075",
    "outputId": "5e252512-824e-4d75-f55e-6c7d1fe427a7"
   },
   "outputs": [
    {
     "data": {
      "text/plain": [
       "array([1, 0], dtype=int64)"
      ]
     },
     "execution_count": 20,
     "metadata": {},
     "output_type": "execute_result"
    }
   ],
   "source": [
    "df['Gender'].unique()"
   ]
  },
  {
   "cell_type": "code",
   "execution_count": 21,
   "metadata": {
    "colab": {
     "base_uri": "https://localhost:8080/",
     "height": 206
    },
    "id": "HCCyqz7Ta0-f",
    "outputId": "8ac68de5-3ddd-4774-8308-01de0c443b96"
   },
   "outputs": [
    {
     "data": {
      "text/html": [
       "<div>\n",
       "<style scoped>\n",
       "    .dataframe tbody tr th:only-of-type {\n",
       "        vertical-align: middle;\n",
       "    }\n",
       "\n",
       "    .dataframe tbody tr th {\n",
       "        vertical-align: top;\n",
       "    }\n",
       "\n",
       "    .dataframe thead th {\n",
       "        text-align: right;\n",
       "    }\n",
       "</style>\n",
       "<table border=\"1\" class=\"dataframe\">\n",
       "  <thead>\n",
       "    <tr style=\"text-align: right;\">\n",
       "      <th></th>\n",
       "      <th>CustomerID</th>\n",
       "      <th>Gender</th>\n",
       "      <th>Age</th>\n",
       "      <th>Annual Income (k$)</th>\n",
       "      <th>Spending Score (1-100)</th>\n",
       "    </tr>\n",
       "  </thead>\n",
       "  <tbody>\n",
       "    <tr>\n",
       "      <th>0</th>\n",
       "      <td>1</td>\n",
       "      <td>1</td>\n",
       "      <td>19</td>\n",
       "      <td>15.0</td>\n",
       "      <td>39</td>\n",
       "    </tr>\n",
       "    <tr>\n",
       "      <th>1</th>\n",
       "      <td>2</td>\n",
       "      <td>1</td>\n",
       "      <td>21</td>\n",
       "      <td>15.0</td>\n",
       "      <td>81</td>\n",
       "    </tr>\n",
       "    <tr>\n",
       "      <th>2</th>\n",
       "      <td>3</td>\n",
       "      <td>0</td>\n",
       "      <td>20</td>\n",
       "      <td>16.0</td>\n",
       "      <td>6</td>\n",
       "    </tr>\n",
       "    <tr>\n",
       "      <th>3</th>\n",
       "      <td>4</td>\n",
       "      <td>0</td>\n",
       "      <td>23</td>\n",
       "      <td>16.0</td>\n",
       "      <td>77</td>\n",
       "    </tr>\n",
       "    <tr>\n",
       "      <th>4</th>\n",
       "      <td>5</td>\n",
       "      <td>0</td>\n",
       "      <td>31</td>\n",
       "      <td>17.0</td>\n",
       "      <td>40</td>\n",
       "    </tr>\n",
       "  </tbody>\n",
       "</table>\n",
       "</div>"
      ],
      "text/plain": [
       "   CustomerID  Gender  Age  Annual Income (k$)  Spending Score (1-100)\n",
       "0           1       1   19                15.0                      39\n",
       "1           2       1   21                15.0                      81\n",
       "2           3       0   20                16.0                       6\n",
       "3           4       0   23                16.0                      77\n",
       "4           5       0   31                17.0                      40"
      ]
     },
     "execution_count": 21,
     "metadata": {},
     "output_type": "execute_result"
    }
   ],
   "source": [
    "df.head()\n",
    "#gender is the categorical column and encoding is performed"
   ]
  },
  {
   "cell_type": "markdown",
   "metadata": {
    "id": "jw2haNSDbTzo"
   },
   "source": [
    "**8. Scaling the data**"
   ]
  },
  {
   "cell_type": "code",
   "execution_count": 22,
   "metadata": {
    "id": "i-fRZ487dxkM"
   },
   "outputs": [],
   "source": [
    "from sklearn.preprocessing import MinMaxScaler"
   ]
  },
  {
   "cell_type": "code",
   "execution_count": 23,
   "metadata": {
    "id": "N1V9sOoheRgF"
   },
   "outputs": [],
   "source": [
    "sc=MinMaxScaler()"
   ]
  },
  {
   "cell_type": "code",
   "execution_count": 24,
   "metadata": {
    "id": "qclmS6WxeSuW"
   },
   "outputs": [],
   "source": [
    "data=sc.fit_transform(df.iloc[:,1:])"
   ]
  },
  {
   "cell_type": "code",
   "execution_count": 25,
   "metadata": {
    "colab": {
     "base_uri": "https://localhost:8080/"
    },
    "id": "z7UzcHFoefI3",
    "outputId": "1ca04d9d-6b47-4525-ad01-624e18a921cc"
   },
   "outputs": [
    {
     "data": {
      "text/plain": [
       "array([[1.        , 0.01923077, 0.20287253, 0.3877551 ],\n",
       "       [1.        , 0.05769231, 0.20287253, 0.81632653],\n",
       "       [0.        , 0.03846154, 0.21005386, 0.05102041],\n",
       "       [0.        , 0.09615385, 0.21005386, 0.7755102 ],\n",
       "       [0.        , 0.25      , 0.21723519, 0.39795918],\n",
       "       [0.        , 0.07692308, 0.21723519, 0.76530612],\n",
       "       [0.        , 0.32692308, 0.22441652, 0.05102041],\n",
       "       [0.        , 0.09615385, 0.22441652, 0.94897959],\n",
       "       [1.        , 0.88461538, 0.23159785, 0.02040816],\n",
       "       [0.        , 0.23076923, 0.23159785, 0.7244898 ],\n",
       "       [1.        , 0.94230769, 0.23159785, 0.13265306],\n",
       "       [0.        , 0.32692308, 0.23159785, 1.        ],\n",
       "       [0.        , 0.76923077, 0.23877917, 0.14285714],\n",
       "       [0.        , 0.11538462, 0.23877917, 0.7755102 ],\n",
       "       [1.        , 0.36538462, 0.23877917, 0.12244898],\n",
       "       [1.        , 0.07692308, 0.23877917, 0.79591837],\n",
       "       [0.        , 0.32692308, 0.2459605 , 0.34693878],\n",
       "       [1.        , 0.03846154, 0.2459605 , 0.66326531],\n",
       "       [1.        , 0.65384615, 0.26032316, 0.28571429],\n",
       "       [0.        , 0.32692308, 0.26032316, 0.98979592],\n",
       "       [1.        , 0.32692308, 0.26750449, 0.34693878],\n",
       "       [1.        , 0.13461538, 0.26750449, 0.73469388],\n",
       "       [0.        , 0.53846154, 0.27468582, 0.04081633],\n",
       "       [1.        , 0.25      , 0.27468582, 0.73469388],\n",
       "       [0.        , 0.69230769, 0.2962298 , 0.13265306],\n",
       "       [1.        , 0.21153846, 0.2962298 , 0.82653061],\n",
       "       [0.        , 0.51923077, 0.2962298 , 0.31632653],\n",
       "       [1.        , 0.32692308, 0.2962298 , 0.6122449 ],\n",
       "       [0.        , 0.42307692, 0.30341113, 0.30612245],\n",
       "       [0.        , 0.09615385, 0.30341113, 0.87755102],\n",
       "       [1.        , 0.80769231, 0.31059246, 0.03061224],\n",
       "       [0.        , 0.05769231, 0.31059246, 0.73469388],\n",
       "       [1.        , 0.67307692, 0.33213645, 0.03061224],\n",
       "       [1.        , 0.        , 0.33213645, 0.92857143],\n",
       "       [0.        , 0.59615385, 0.33213645, 0.13265306],\n",
       "       [0.        , 0.05769231, 0.33213645, 0.81632653],\n",
       "       [0.        , 0.46153846, 0.33931777, 0.16326531],\n",
       "       [0.        , 0.23076923, 0.33931777, 0.73469388],\n",
       "       [0.        , 0.34615385, 0.36086176, 0.25510204],\n",
       "       [0.        , 0.03846154, 0.36086176, 0.75510204],\n",
       "       [0.        , 0.90384615, 0.36804309, 0.34693878],\n",
       "       [1.        , 0.11538462, 0.36804309, 0.92857143],\n",
       "       [1.        , 0.57692308, 0.37522442, 0.35714286],\n",
       "       [0.        , 0.25      , 0.37522442, 0.6122449 ],\n",
       "       [0.        , 0.59615385, 0.37522442, 0.2755102 ],\n",
       "       [0.        , 0.11538462, 0.37522442, 0.65306122],\n",
       "       [0.        , 0.61538462, 0.38240575, 0.55102041],\n",
       "       [0.        , 0.17307692, 0.38240575, 0.46938776],\n",
       "       [0.        , 0.21153846, 0.38240575, 0.41836735],\n",
       "       [0.        , 0.25      , 0.38240575, 0.41836735],\n",
       "       [0.        , 0.59615385, 0.3967684 , 0.52040816],\n",
       "       [1.        , 0.28846154, 0.3967684 , 0.60204082],\n",
       "       [0.        , 0.25      , 0.40394973, 0.54081633],\n",
       "       [1.        , 0.78846154, 0.40394973, 0.60204082],\n",
       "       [0.        , 0.61538462, 0.40394973, 0.44897959],\n",
       "       [1.        , 0.55769231, 0.40394973, 0.40816327],\n",
       "       [0.        , 0.63461538, 0.41113106, 0.5       ],\n",
       "       [1.        , 0.98076923, 0.41113106, 0.45918367],\n",
       "       [0.        , 0.17307692, 0.42549372, 0.51020408],\n",
       "       [1.        , 0.67307692, 0.42549372, 0.45918367],\n",
       "       [1.        , 1.        , 0.42549372, 0.56122449],\n",
       "       [1.        , 0.01923077, 0.42549372, 0.55102041],\n",
       "       [0.        , 0.94230769, 0.43267504, 0.52040816],\n",
       "       [0.        , 0.69230769, 0.43267504, 0.59183673],\n",
       "       [1.        , 0.86538462, 0.43985637, 0.51020408],\n",
       "       [1.        , 0.        , 0.43985637, 0.59183673],\n",
       "       [0.        , 0.48076923, 0.43985637, 0.5       ],\n",
       "       [0.        , 0.96153846, 0.43985637, 0.47959184],\n",
       "       [1.        , 0.01923077, 0.43985637, 0.59183673],\n",
       "       [0.        , 0.26923077, 0.43985637, 0.46938776],\n",
       "       [1.        , 1.        , 0.4470377 , 0.55102041],\n",
       "       [0.        , 0.55769231, 0.4470377 , 0.41836735],\n",
       "       [0.        , 0.80769231, 0.45421903, 0.48979592],\n",
       "       [0.        , 0.80769231, 0.45421903, 0.56122449],\n",
       "       [1.        , 0.78846154, 0.48294434, 0.46938776],\n",
       "       [1.        , 0.15384615, 0.48294434, 0.54081633],\n",
       "       [0.        , 0.51923077, 0.48294434, 0.53061224],\n",
       "       [1.        , 0.42307692, 0.48294434, 0.47959184],\n",
       "       [0.        , 0.09615385, 0.48294434, 0.52040816],\n",
       "       [0.        , 0.59615385, 0.48294434, 0.41836735],\n",
       "       [1.        , 0.75      , 0.48294434, 0.51020408],\n",
       "       [1.        , 0.38461538, 0.48294434, 0.55102041],\n",
       "       [1.        , 0.94230769, 0.48294434, 0.40816327],\n",
       "       [0.        , 0.53846154, 0.48294434, 0.43877551],\n",
       "       [0.        , 0.05769231, 0.48294434, 0.57142857],\n",
       "       [1.        , 0.57692308, 0.48294434, 0.45918367],\n",
       "       [0.        , 0.71153846, 0.50448833, 0.58163265],\n",
       "       [0.        , 0.07692308, 0.50448833, 0.55102041],\n",
       "       [0.        , 0.30769231, 0.51166966, 0.60204082],\n",
       "       [0.        , 0.61538462, 0.51166966, 0.45918367],\n",
       "       [0.        , 0.96153846, 0.51885099, 0.55102041],\n",
       "       [1.        , 0.        , 0.51885099, 0.40816327],\n",
       "       [1.        , 0.57692308, 0.52603232, 0.48979592],\n",
       "       [0.        , 0.42307692, 0.52603232, 0.39795918],\n",
       "       [0.        , 0.26923077, 0.52603232, 0.41836735],\n",
       "       [1.        , 0.11538462, 0.52603232, 0.52040816],\n",
       "       [0.        , 0.55769231, 0.52603232, 0.46938776],\n",
       "       [0.        , 0.17307692, 0.52603232, 0.5       ],\n",
       "       [1.        , 0.57692308, 0.53321364, 0.41836735],\n",
       "       [1.        , 0.03846154, 0.53321364, 0.48979592],\n",
       "       [0.        , 0.09615385, 0.54039497, 0.40816327],\n",
       "       [0.        , 0.59615385, 0.54039497, 0.47959184],\n",
       "       [1.        , 0.94230769, 0.54039497, 0.59183673],\n",
       "       [1.        , 0.15384615, 0.54039497, 0.55102041],\n",
       "       [1.        , 0.59615385, 0.54039497, 0.56122449],\n",
       "       [0.        , 0.05769231, 0.54039497, 0.41836735],\n",
       "       [0.        , 0.92307692, 0.5475763 , 0.5       ],\n",
       "       [1.        , 0.69230769, 0.5475763 , 0.45918367],\n",
       "       [1.        , 0.96153846, 0.5475763 , 0.42857143],\n",
       "       [1.        , 0.92307692, 0.5475763 , 0.47959184],\n",
       "       [1.        , 0.90384615, 0.5475763 , 0.52040816],\n",
       "       [0.        , 0.01923077, 0.5475763 , 0.54081633],\n",
       "       [0.        , 0.38461538, 0.55475763, 0.41836735],\n",
       "       [1.        , 0.01923077, 0.55475763, 0.45918367],\n",
       "       [0.        , 0.        , 0.56193896, 0.47959184],\n",
       "       [0.        , 0.01923077, 0.56193896, 0.5       ],\n",
       "       [0.        , 0.86538462, 0.56193896, 0.42857143],\n",
       "       [0.        , 0.59615385, 0.56193896, 0.59183673],\n",
       "       [0.        , 0.63461538, 0.57630162, 0.42857143],\n",
       "       [0.        , 0.61538462, 0.57630162, 0.57142857],\n",
       "       [1.        , 0.17307692, 0.57630162, 0.56122449],\n",
       "       [0.        , 0.38461538, 0.57630162, 0.39795918],\n",
       "       [0.        , 0.42307692, 0.59066427, 0.58163265],\n",
       "       [1.        , 0.40384615, 0.59066427, 0.91836735],\n",
       "       [0.        , 0.09615385, 0.5978456 , 0.28571429],\n",
       "       [0.        , 0.25      , 0.5978456 , 0.7755102 ],\n",
       "       [1.        , 0.48076923, 0.60502693, 0.34693878],\n",
       "       [1.        , 0.42307692, 0.60502693, 0.95918367],\n",
       "       [1.        , 0.78846154, 0.60502693, 0.10204082],\n",
       "       [1.        , 0.38461538, 0.60502693, 0.75510204],\n",
       "       [1.        , 0.55769231, 0.60502693, 0.08163265],\n",
       "       [1.        , 0.40384615, 0.60502693, 0.75510204],\n",
       "       [0.        , 0.13461538, 0.61220826, 0.33673469],\n",
       "       [0.        , 0.25      , 0.61220826, 0.71428571],\n",
       "       [1.        , 0.03846154, 0.61938959, 0.04081633],\n",
       "       [0.        , 0.21153846, 0.61938959, 0.8877551 ],\n",
       "       [0.        , 0.5       , 0.61938959, 0.06122449],\n",
       "       [1.        , 0.26923077, 0.61938959, 0.73469388],\n",
       "       [1.        , 0.01923077, 0.62657092, 0.09183673],\n",
       "       [0.        , 0.32692308, 0.62657092, 0.7244898 ],\n",
       "       [0.        , 0.75      , 0.63375224, 0.04081633],\n",
       "       [1.        , 0.26923077, 0.63375224, 0.93877551],\n",
       "       [0.        , 0.19230769, 0.64093357, 0.39795918],\n",
       "       [0.        , 0.26923077, 0.64093357, 0.87755102],\n",
       "       [1.        , 0.13461538, 0.6481149 , 0.1122449 ],\n",
       "       [1.        , 0.19230769, 0.6481149 , 0.97959184],\n",
       "       [1.        , 0.57692308, 0.6481149 , 0.35714286],\n",
       "       [0.        , 0.26923077, 0.6481149 , 0.74489796],\n",
       "       [0.        , 0.30769231, 0.65529623, 0.21428571],\n",
       "       [1.        , 0.30769231, 0.65529623, 0.90816327],\n",
       "       [1.        , 0.48076923, 0.65529623, 0.16326531],\n",
       "       [1.        , 0.40384615, 0.65529623, 0.8877551 ],\n",
       "       [0.        , 0.5       , 0.65529623, 0.19387755],\n",
       "       [0.        , 0.38461538, 0.65529623, 0.76530612],\n",
       "       [0.        , 0.55769231, 0.65529623, 0.15306122],\n",
       "       [0.        , 0.17307692, 0.65529623, 0.89795918],\n",
       "       [1.        , 0.36538462, 0.65529623, 0.        ],\n",
       "       [0.        , 0.23076923, 0.65529623, 0.78571429],\n",
       "       [1.        , 0.30769231, 0.65529623, 0.        ],\n",
       "       [0.        , 0.23076923, 0.65529623, 0.73469388],\n",
       "       [0.        , 0.73076923, 0.66247756, 0.34693878],\n",
       "       [0.        , 0.21153846, 0.66247756, 0.83673469],\n",
       "       [1.        , 0.01923077, 0.67684022, 0.04081633],\n",
       "       [0.        , 0.25      , 0.67684022, 0.93877551],\n",
       "       [1.        , 0.61538462, 0.70556553, 0.25510204],\n",
       "       [0.        , 0.34615385, 0.70556553, 0.75510204],\n",
       "       [1.        , 0.46153846, 0.71274686, 0.19387755],\n",
       "       [0.        , 0.28846154, 0.71274686, 0.95918367],\n",
       "       [0.        , 0.34615385, 0.71992819, 0.26530612],\n",
       "       [1.        , 0.26923077, 0.71992819, 0.63265306],\n",
       "       [1.        , 0.42307692, 0.71992819, 0.12244898],\n",
       "       [1.        , 0.19230769, 0.71992819, 0.75510204],\n",
       "       [1.        , 0.34615385, 0.71992819, 0.09183673],\n",
       "       [1.        , 0.34615385, 0.71992819, 0.92857143],\n",
       "       [0.        , 0.65384615, 0.72710952, 0.12244898],\n",
       "       [0.        , 0.23076923, 0.72710952, 0.86734694],\n",
       "       [1.        , 0.76923077, 0.72710952, 0.14285714],\n",
       "       [1.        , 0.17307692, 0.72710952, 0.69387755],\n",
       "       [1.        , 0.78846154, 0.76301616, 0.13265306],\n",
       "       [1.        , 0.32692308, 0.76301616, 0.90816327],\n",
       "       [0.        , 0.36538462, 0.79174147, 0.31632653],\n",
       "       [0.        , 0.26923077, 0.79174147, 0.86734694],\n",
       "       [1.        , 0.53846154, 0.7989228 , 0.14285714],\n",
       "       [0.        , 0.21153846, 0.7989228 , 0.8877551 ],\n",
       "       [0.        , 0.44230769, 0.80610413, 0.3877551 ],\n",
       "       [1.        , 0.23076923, 0.80610413, 0.97959184],\n",
       "       [0.        , 0.69230769, 0.82046679, 0.23469388],\n",
       "       [1.        , 0.19230769, 0.82046679, 0.68367347],\n",
       "       [0.        , 0.44230769, 0.83482944, 0.16326531],\n",
       "       [0.        , 0.34615385, 0.83482944, 0.85714286],\n",
       "       [0.        , 0.30769231, 0.83482944, 0.2244898 ],\n",
       "       [0.        , 0.26923077, 0.83482944, 0.69387755],\n",
       "       [1.        , 0.28846154, 0.90664273, 0.07142857],\n",
       "       [0.        , 0.38461538, 0.90664273, 0.91836735],\n",
       "       [0.        , 0.55769231, 0.95691203, 0.15306122],\n",
       "       [0.        , 0.32692308, 0.95691203, 0.79591837],\n",
       "       [0.        , 0.51923077, 1.        , 0.2755102 ],\n",
       "       [1.        , 0.26923077, 1.        , 0.74489796],\n",
       "       [1.        , 0.26923077, 0.        , 0.17346939],\n",
       "       [1.        , 0.23076923, 0.        , 0.83673469]])"
      ]
     },
     "execution_count": 25,
     "metadata": {},
     "output_type": "execute_result"
    }
   ],
   "source": [
    "data"
   ]
  },
  {
   "cell_type": "markdown",
   "metadata": {
    "id": "d8Ry5CwCe9ey"
   },
   "source": [
    "**9. Perform any of the clustering algorithms**"
   ]
  },
  {
   "cell_type": "code",
   "execution_count": 26,
   "metadata": {
    "id": "5CONG0IVe7Rj"
   },
   "outputs": [],
   "source": [
    "from sklearn.cluster import KMeans"
   ]
  },
  {
   "cell_type": "code",
   "execution_count": 27,
   "metadata": {
    "id": "-LtdyVRse7Ub"
   },
   "outputs": [],
   "source": [
    "TWSS=[]\n",
    "k=list(range(2,9))\n",
    "\n",
    "for i in k:\n",
    "    kmeans=KMeans(n_clusters=i,init='k-means++')\n",
    "    kmeans.fit(df)\n",
    "    TWSS.append(kmeans.inertia_)"
   ]
  },
  {
   "cell_type": "code",
   "execution_count": 28,
   "metadata": {
    "colab": {
     "base_uri": "https://localhost:8080/"
    },
    "id": "4ippw_Yue7sh",
    "outputId": "a18f771b-8c58-4f1f-f937-0464cf667df5"
   },
   "outputs": [
    {
     "data": {
      "text/plain": [
       "[397879.99471197114,\n",
       " 286281.3143374741,\n",
       " 209432.15675970103,\n",
       " 171294.2250685679,\n",
       " 137377.2499319015,\n",
       " 117470.70456688973,\n",
       " 99854.71631016041]"
      ]
     },
     "execution_count": 28,
     "metadata": {},
     "output_type": "execute_result"
    }
   ],
   "source": [
    "TWSS"
   ]
  },
  {
   "cell_type": "code",
   "execution_count": 29,
   "metadata": {
    "colab": {
     "base_uri": "https://localhost:8080/",
     "height": 296
    },
    "id": "7OliqmVXfPMr",
    "outputId": "960bac3a-fa07-4151-ee25-a27f359dc5e5"
   },
   "outputs": [
    {
     "data": {
      "text/plain": [
       "Text(0, 0.5, 'TWSS')"
      ]
     },
     "execution_count": 29,
     "metadata": {},
     "output_type": "execute_result"
    },
    {
     "data": {
      "image/png": "[encoded data removed]",
      "text/plain": [
       "<Figure size 432x288 with 1 Axes>"
      ]
     },
     "metadata": {
      "needs_background": "light"
     },
     "output_type": "display_data"
    }
   ],
   "source": [
    "plt.plot(k,TWSS,'ro--')\n",
    "plt.xlabel('no of cluster')\n",
    "plt.ylabel('TWSS')"
   ]
  },
  {
   "cell_type": "code",
   "execution_count": 30,
   "metadata": {
    "colab": {
     "base_uri": "https://localhost:8080/"
    },
    "id": "MSIZG3A2fPTw",
    "outputId": "76e2581a-c30d-43d3-88fd-b742b2e065f3"
   },
   "outputs": [
    {
     "data": {
      "text/plain": [
       "KMeans(n_clusters=4)"
      ]
     },
     "execution_count": 30,
     "metadata": {},
     "output_type": "execute_result"
    }
   ],
   "source": [
    "model=KMeans(n_clusters=4)\n",
    "\n",
    "model.fit(df)"
   ]
  },
  {
   "cell_type": "code",
   "execution_count": 31,
   "metadata": {
    "colab": {
     "base_uri": "https://localhost:8080/"
    },
    "id": "DX2EXu6tfVLS",
    "outputId": "7560f5b6-907e-469e-fc7d-6f88f25c0834"
   },
   "outputs": [
    {
     "data": {
      "text/plain": [
       "array([1, 1, 1, 1, 1, 1, 1, 1, 1, 1, 1, 1, 1, 1, 1, 1, 1, 1, 1, 1, 1, 1,\n",
       "       1, 1, 1, 1, 1, 1, 1, 1, 1, 1, 1, 1, 1, 1, 1, 1, 1, 1, 1, 1, 1, 1,\n",
       "       1, 1, 1, 1, 1, 1, 1, 1, 1, 1, 1, 1, 1, 1, 1, 1, 2, 1, 2, 2, 2, 2,\n",
       "       2, 2, 2, 2, 2, 2, 2, 2, 2, 2, 2, 2, 2, 2, 2, 2, 2, 2, 2, 2, 2, 2,\n",
       "       2, 2, 2, 2, 2, 2, 2, 2, 2, 2, 2, 2, 2, 2, 2, 2, 2, 2, 2, 2, 2, 2,\n",
       "       2, 2, 2, 2, 2, 2, 2, 2, 2, 2, 2, 2, 2, 0, 2, 0, 2, 0, 3, 0, 3, 0,\n",
       "       3, 0, 3, 0, 3, 0, 3, 0, 3, 0, 3, 0, 3, 0, 3, 0, 3, 0, 3, 0, 3, 0,\n",
       "       3, 0, 3, 0, 3, 0, 3, 0, 3, 0, 3, 0, 3, 0, 3, 0, 3, 0, 3, 0, 3, 0,\n",
       "       3, 0, 3, 0, 3, 0, 3, 0, 3, 0, 3, 0, 3, 0, 3, 0, 3, 0, 3, 0, 3, 0,\n",
       "       3, 0])"
      ]
     },
     "execution_count": 31,
     "metadata": {},
     "output_type": "execute_result"
    }
   ],
   "source": [
    "model.labels_"
   ]
  },
  {
   "cell_type": "code",
   "execution_count": 32,
   "metadata": {
    "id": "Jqlfq5wsfVOt"
   },
   "outputs": [],
   "source": [
    "mb=pd.Series(model.labels_)"
   ]
  },
  {
   "cell_type": "code",
   "execution_count": 33,
   "metadata": {
    "colab": {
     "base_uri": "https://localhost:8080/",
     "height": 143
    },
    "id": "CzICYulbfVSg",
    "outputId": "829056c4-a5a9-47f5-dc67-202de6757c70"
   },
   "outputs": [
    {
     "data": {
      "text/html": [
       "<div>\n",
       "<style scoped>\n",
       "    .dataframe tbody tr th:only-of-type {\n",
       "        vertical-align: middle;\n",
       "    }\n",
       "\n",
       "    .dataframe tbody tr th {\n",
       "        vertical-align: top;\n",
       "    }\n",
       "\n",
       "    .dataframe thead th {\n",
       "        text-align: right;\n",
       "    }\n",
       "</style>\n",
       "<table border=\"1\" class=\"dataframe\">\n",
       "  <thead>\n",
       "    <tr style=\"text-align: right;\">\n",
       "      <th></th>\n",
       "      <th>CustomerID</th>\n",
       "      <th>Gender</th>\n",
       "      <th>Age</th>\n",
       "      <th>Annual Income (k$)</th>\n",
       "      <th>Spending Score (1-100)</th>\n",
       "    </tr>\n",
       "  </thead>\n",
       "  <tbody>\n",
       "    <tr>\n",
       "      <th>0</th>\n",
       "      <td>1</td>\n",
       "      <td>1</td>\n",
       "      <td>19</td>\n",
       "      <td>15.0</td>\n",
       "      <td>39</td>\n",
       "    </tr>\n",
       "    <tr>\n",
       "      <th>1</th>\n",
       "      <td>2</td>\n",
       "      <td>1</td>\n",
       "      <td>21</td>\n",
       "      <td>15.0</td>\n",
       "      <td>81</td>\n",
       "    </tr>\n",
       "    <tr>\n",
       "      <th>2</th>\n",
       "      <td>3</td>\n",
       "      <td>0</td>\n",
       "      <td>20</td>\n",
       "      <td>16.0</td>\n",
       "      <td>6</td>\n",
       "    </tr>\n",
       "  </tbody>\n",
       "</table>\n",
       "</div>"
      ],
      "text/plain": [
       "   CustomerID  Gender  Age  Annual Income (k$)  Spending Score (1-100)\n",
       "0           1       1   19                15.0                      39\n",
       "1           2       1   21                15.0                      81\n",
       "2           3       0   20                16.0                       6"
      ]
     },
     "execution_count": 33,
     "metadata": {},
     "output_type": "execute_result"
    }
   ],
   "source": [
    "df.head(3)"
   ]
  },
  {
   "cell_type": "markdown",
   "metadata": {
    "id": "k_hP-astgVmg"
   },
   "source": [
    "**10. Add the cluster data with the primary dataset**"
   ]
  },
  {
   "cell_type": "code",
   "execution_count": 34,
   "metadata": {
    "id": "UIsbj_yNgBEh"
   },
   "outputs": [],
   "source": [
    "df['clust']=mb"
   ]
  },
  {
   "cell_type": "code",
   "execution_count": 35,
   "metadata": {
    "colab": {
     "base_uri": "https://localhost:8080/",
     "height": 206
    },
    "id": "KwTJbbQ9gIIQ",
    "outputId": "e5f45847-604d-4a43-a36c-76e13443dc53"
   },
   "outputs": [
    {
     "data": {
      "text/html": [
       "<div>\n",
       "<style scoped>\n",
       "    .dataframe tbody tr th:only-of-type {\n",
       "        vertical-align: middle;\n",
       "    }\n",
       "\n",
       "    .dataframe tbody tr th {\n",
       "        vertical-align: top;\n",
       "    }\n",
       "\n",
       "    .dataframe thead th {\n",
       "        text-align: right;\n",
       "    }\n",
       "</style>\n",
       "<table border=\"1\" class=\"dataframe\">\n",
       "  <thead>\n",
       "    <tr style=\"text-align: right;\">\n",
       "      <th></th>\n",
       "      <th>CustomerID</th>\n",
       "      <th>Gender</th>\n",
       "      <th>Age</th>\n",
       "      <th>Annual Income (k$)</th>\n",
       "      <th>Spending Score (1-100)</th>\n",
       "      <th>clust</th>\n",
       "    </tr>\n",
       "  </thead>\n",
       "  <tbody>\n",
       "    <tr>\n",
       "      <th>0</th>\n",
       "      <td>1</td>\n",
       "      <td>1</td>\n",
       "      <td>19</td>\n",
       "      <td>15.0</td>\n",
       "      <td>39</td>\n",
       "      <td>1</td>\n",
       "    </tr>\n",
       "    <tr>\n",
       "      <th>1</th>\n",
       "      <td>2</td>\n",
       "      <td>1</td>\n",
       "      <td>21</td>\n",
       "      <td>15.0</td>\n",
       "      <td>81</td>\n",
       "      <td>1</td>\n",
       "    </tr>\n",
       "    <tr>\n",
       "      <th>2</th>\n",
       "      <td>3</td>\n",
       "      <td>0</td>\n",
       "      <td>20</td>\n",
       "      <td>16.0</td>\n",
       "      <td>6</td>\n",
       "      <td>1</td>\n",
       "    </tr>\n",
       "    <tr>\n",
       "      <th>3</th>\n",
       "      <td>4</td>\n",
       "      <td>0</td>\n",
       "      <td>23</td>\n",
       "      <td>16.0</td>\n",
       "      <td>77</td>\n",
       "      <td>1</td>\n",
       "    </tr>\n",
       "    <tr>\n",
       "      <th>4</th>\n",
       "      <td>5</td>\n",
       "      <td>0</td>\n",
       "      <td>31</td>\n",
       "      <td>17.0</td>\n",
       "      <td>40</td>\n",
       "      <td>1</td>\n",
       "    </tr>\n",
       "  </tbody>\n",
       "</table>\n",
       "</div>"
      ],
      "text/plain": [
       "   CustomerID  Gender  Age  Annual Income (k$)  Spending Score (1-100)  clust\n",
       "0           1       1   19                15.0                      39      1\n",
       "1           2       1   21                15.0                      81      1\n",
       "2           3       0   20                16.0                       6      1\n",
       "3           4       0   23                16.0                      77      1\n",
       "4           5       0   31                17.0                      40      1"
      ]
     },
     "execution_count": 35,
     "metadata": {},
     "output_type": "execute_result"
    }
   ],
   "source": [
    "df.head()"
   ]
  },
  {
   "cell_type": "code",
   "execution_count": 36,
   "metadata": {
    "colab": {
     "base_uri": "https://localhost:8080/",
     "height": 206
    },
    "id": "QVanWeDqgOXM",
    "outputId": "c866d2e4-0985-4ef4-86d8-8df2b9e9a382"
   },
   "outputs": [
    {
     "data": {
      "text/html": [
       "<div>\n",
       "<style scoped>\n",
       "    .dataframe tbody tr th:only-of-type {\n",
       "        vertical-align: middle;\n",
       "    }\n",
       "\n",
       "    .dataframe tbody tr th {\n",
       "        vertical-align: top;\n",
       "    }\n",
       "\n",
       "    .dataframe thead th {\n",
       "        text-align: right;\n",
       "    }\n",
       "</style>\n",
       "<table border=\"1\" class=\"dataframe\">\n",
       "  <thead>\n",
       "    <tr style=\"text-align: right;\">\n",
       "      <th></th>\n",
       "      <th>CustomerID</th>\n",
       "      <th>Gender</th>\n",
       "      <th>Age</th>\n",
       "      <th>Annual Income (k$)</th>\n",
       "      <th>Spending Score (1-100)</th>\n",
       "      <th>clust</th>\n",
       "    </tr>\n",
       "  </thead>\n",
       "  <tbody>\n",
       "    <tr>\n",
       "      <th>195</th>\n",
       "      <td>196</td>\n",
       "      <td>0</td>\n",
       "      <td>35</td>\n",
       "      <td>120.00</td>\n",
       "      <td>79</td>\n",
       "      <td>0</td>\n",
       "    </tr>\n",
       "    <tr>\n",
       "      <th>196</th>\n",
       "      <td>197</td>\n",
       "      <td>0</td>\n",
       "      <td>45</td>\n",
       "      <td>126.00</td>\n",
       "      <td>28</td>\n",
       "      <td>3</td>\n",
       "    </tr>\n",
       "    <tr>\n",
       "      <th>197</th>\n",
       "      <td>198</td>\n",
       "      <td>1</td>\n",
       "      <td>32</td>\n",
       "      <td>126.00</td>\n",
       "      <td>74</td>\n",
       "      <td>0</td>\n",
       "    </tr>\n",
       "    <tr>\n",
       "      <th>198</th>\n",
       "      <td>199</td>\n",
       "      <td>1</td>\n",
       "      <td>32</td>\n",
       "      <td>-13.25</td>\n",
       "      <td>18</td>\n",
       "      <td>3</td>\n",
       "    </tr>\n",
       "    <tr>\n",
       "      <th>199</th>\n",
       "      <td>200</td>\n",
       "      <td>1</td>\n",
       "      <td>30</td>\n",
       "      <td>-13.25</td>\n",
       "      <td>83</td>\n",
       "      <td>0</td>\n",
       "    </tr>\n",
       "  </tbody>\n",
       "</table>\n",
       "</div>"
      ],
      "text/plain": [
       "     CustomerID  Gender  Age  Annual Income (k$)  Spending Score (1-100)  \\\n",
       "195         196       0   35              120.00                      79   \n",
       "196         197       0   45              126.00                      28   \n",
       "197         198       1   32              126.00                      74   \n",
       "198         199       1   32              -13.25                      18   \n",
       "199         200       1   30              -13.25                      83   \n",
       "\n",
       "     clust  \n",
       "195      0  \n",
       "196      3  \n",
       "197      0  \n",
       "198      3  \n",
       "199      0  "
      ]
     },
     "execution_count": 36,
     "metadata": {},
     "output_type": "execute_result"
    }
   ],
   "source": [
    "df.tail()"
   ]
  },
  {
   "cell_type": "markdown",
   "metadata": {
    "id": "N1rZEyZ9gfw2"
   },
   "source": [
    "**11. Split the data into dependent and independent\n",
    "variables.**"
   ]
  },
  {
   "cell_type": "code",
   "execution_count": 37,
   "metadata": {
    "colab": {
     "base_uri": "https://localhost:8080/",
     "height": 206
    },
    "id": "XoBBl93WgXFf",
    "outputId": "f044c0c4-5abe-4b20-a592-26952524fffb"
   },
   "outputs": [
    {
     "data": {
      "text/html": [
       "<div>\n",
       "<style scoped>\n",
       "    .dataframe tbody tr th:only-of-type {\n",
       "        vertical-align: middle;\n",
       "    }\n",
       "\n",
       "    .dataframe tbody tr th {\n",
       "        vertical-align: top;\n",
       "    }\n",
       "\n",
       "    .dataframe thead th {\n",
       "        text-align: right;\n",
       "    }\n",
       "</style>\n",
       "<table border=\"1\" class=\"dataframe\">\n",
       "  <thead>\n",
       "    <tr style=\"text-align: right;\">\n",
       "      <th></th>\n",
       "      <th>Gender</th>\n",
       "      <th>Age</th>\n",
       "      <th>Annual Income (k$)</th>\n",
       "      <th>Spending Score (1-100)</th>\n",
       "    </tr>\n",
       "  </thead>\n",
       "  <tbody>\n",
       "    <tr>\n",
       "      <th>0</th>\n",
       "      <td>1</td>\n",
       "      <td>19</td>\n",
       "      <td>15.0</td>\n",
       "      <td>39</td>\n",
       "    </tr>\n",
       "    <tr>\n",
       "      <th>1</th>\n",
       "      <td>1</td>\n",
       "      <td>21</td>\n",
       "      <td>15.0</td>\n",
       "      <td>81</td>\n",
       "    </tr>\n",
       "    <tr>\n",
       "      <th>2</th>\n",
       "      <td>0</td>\n",
       "      <td>20</td>\n",
       "      <td>16.0</td>\n",
       "      <td>6</td>\n",
       "    </tr>\n",
       "    <tr>\n",
       "      <th>3</th>\n",
       "      <td>0</td>\n",
       "      <td>23</td>\n",
       "      <td>16.0</td>\n",
       "      <td>77</td>\n",
       "    </tr>\n",
       "    <tr>\n",
       "      <th>4</th>\n",
       "      <td>0</td>\n",
       "      <td>31</td>\n",
       "      <td>17.0</td>\n",
       "      <td>40</td>\n",
       "    </tr>\n",
       "  </tbody>\n",
       "</table>\n",
       "</div>"
      ],
      "text/plain": [
       "   Gender  Age  Annual Income (k$)  Spending Score (1-100)\n",
       "0       1   19                15.0                      39\n",
       "1       1   21                15.0                      81\n",
       "2       0   20                16.0                       6\n",
       "3       0   23                16.0                      77\n",
       "4       0   31                17.0                      40"
      ]
     },
     "execution_count": 37,
     "metadata": {},
     "output_type": "execute_result"
    }
   ],
   "source": [
    "x=df.drop(columns=['CustomerID','clust'],axis=1)\n",
    "x.head()"
   ]
  },
  {
   "cell_type": "code",
   "execution_count": 38,
   "metadata": {
    "colab": {
     "base_uri": "https://localhost:8080/"
    },
    "id": "bXcI3j5Igw0k",
    "outputId": "0e842826-567b-4603-94a7-886f32b86c48"
   },
   "outputs": [
    {
     "data": {
      "text/plain": [
       "0      1\n",
       "1      1\n",
       "2      1\n",
       "3      1\n",
       "4      1\n",
       "      ..\n",
       "195    0\n",
       "196    3\n",
       "197    0\n",
       "198    3\n",
       "199    0\n",
       "Name: clust, Length: 200, dtype: int32"
      ]
     },
     "execution_count": 38,
     "metadata": {},
     "output_type": "execute_result"
    }
   ],
   "source": [
    "y=df['clust']\n",
    "y"
   ]
  },
  {
   "cell_type": "markdown",
   "metadata": {
    "id": "QkoQV6oMhQwL"
   },
   "source": [
    "**12. Split the data into training and testing**"
   ]
  },
  {
   "cell_type": "code",
   "execution_count": 39,
   "metadata": {
    "id": "4DFJFlSShScy"
   },
   "outputs": [],
   "source": [
    "from sklearn.model_selection import train_test_split"
   ]
  },
  {
   "cell_type": "code",
   "execution_count": 40,
   "metadata": {
    "id": "0jLHlMlnhSfl"
   },
   "outputs": [],
   "source": [
    "x_train,x_test,y_train,y_test=train_test_split(x,y,test_size=0.2,random_state=0)"
   ]
  },
  {
   "cell_type": "markdown",
   "metadata": {
    "id": "z-xSxSjmiS56"
   },
   "source": [
    "**12. Split the data into training and testing**"
   ]
  },
  {
   "cell_type": "code",
   "execution_count": 41,
   "metadata": {
    "id": "X0N46swkhSif"
   },
   "outputs": [],
   "source": [
    "from sklearn.ensemble import RandomForestClassifier"
   ]
  },
  {
   "cell_type": "code",
   "execution_count": 42,
   "metadata": {
    "id": "g44YFJAGiZj_"
   },
   "outputs": [],
   "source": [
    "rf=RandomForestClassifier()"
   ]
  },
  {
   "cell_type": "markdown",
   "metadata": {
    "id": "ebupuN1DilIZ"
   },
   "source": [
    "**14. Train the Model**"
   ]
  },
  {
   "cell_type": "code",
   "execution_count": 43,
   "metadata": {
    "colab": {
     "base_uri": "https://localhost:8080/"
    },
    "id": "EPhpFe0lib_S",
    "outputId": "28c509d7-6d4a-469d-9527-d869ec53b3ee"
   },
   "outputs": [
    {
     "data": {
      "text/plain": [
       "RandomForestClassifier()"
      ]
     },
     "execution_count": 43,
     "metadata": {},
     "output_type": "execute_result"
    }
   ],
   "source": [
    "rf.fit(x_train,y_train)"
   ]
  },
  {
   "cell_type": "markdown",
   "metadata": {
    "id": "KRFeHYNhiwM0"
   },
   "source": [
    "**15. Test the Model**"
   ]
  },
  {
   "cell_type": "code",
   "execution_count": 44,
   "metadata": {
    "id": "cEKnhOJnixrT"
   },
   "outputs": [],
   "source": [
    "pred=rf.predict(x_test)"
   ]
  },
  {
   "cell_type": "markdown",
   "metadata": {
    "id": "tnRb364bi5Bx"
   },
   "source": [
    "**16. Measure the performance using Evaluation Metrics.**"
   ]
  },
  {
   "cell_type": "code",
   "execution_count": 45,
   "metadata": {
    "colab": {
     "base_uri": "https://localhost:8080/"
    },
    "id": "Bm3ibNPwi2rz",
    "outputId": "19b4be3f-e75a-4df5-d2a8-2b8a9f16de0e"
   },
   "outputs": [
    {
     "data": {
      "text/plain": [
       "0.975"
      ]
     },
     "execution_count": 45,
     "metadata": {},
     "output_type": "execute_result"
    }
   ],
   "source": [
    "from sklearn.metrics import accuracy_score\n",
    "\n",
    "accuracy_score(y_test,pred)"
   ]
  },
  {
   "cell_type": "code",
   "execution_count": 46,
   "metadata": {
    "colab": {
     "base_uri": "https://localhost:8080/"
    },
    "id": "r-jZWJmQjTIV",
    "outputId": "972ce5b5-eb27-4324-9880-167c63e27e46"
   },
   "outputs": [
    {
     "data": {
      "text/plain": [
       "array([[10,  0,  0,  0],\n",
       "       [ 0, 13,  0,  0],\n",
       "       [ 0,  1,  8,  0],\n",
       "       [ 0,  0,  0,  8]], dtype=int64)"
      ]
     },
     "execution_count": 46,
     "metadata": {},
     "output_type": "execute_result"
    }
   ],
   "source": [
    "from sklearn import metrics\n",
    "metrics.confusion_matrix(y_test,pred)"
   ]
  }
 ],
 "metadata": {
  "colab": {
   "collapsed_sections": [],
   "provenance": []
  },
  "kernelspec": {
   "display_name": "Python 3 (ipykernel)",
   "language": "python",
   "name": "python3"
  },
  "language_info": {
   "codemirror_mode": {
    "name": "ipython",
    "version": 3
   },
   "file_extension": ".py",
   "mimetype": "text/x-python",
   "name": "python",
   "nbconvert_exporter": "python",
   "pygments_lexer": "ipython3",
   "version": "3.9.12"
  }
 },
 "nbformat": 4,
 "nbformat_minor": 1
}
